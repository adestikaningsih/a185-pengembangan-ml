{
  "nbformat": 4,
  "nbformat_minor": 0,
  "metadata": {
    "colab": {
      "provenance": [],
      "collapsed_sections": [],
      "mount_file_id": "1fDwf551xtGKxyOa47NIVZilKt5RttlQs",
      "authorship_tag": "ABX9TyO/JxNqoQD77pskCh4oxfVy",
      "include_colab_link": true
    },
    "kernelspec": {
      "name": "python3",
      "display_name": "Python 3"
    },
    "language_info": {
      "name": "python"
    }
  },
  "cells": [
    {
      "cell_type": "markdown",
      "metadata": {
        "id": "view-in-github",
        "colab_type": "text"
      },
      "source": [
        "<a href=\"https://colab.research.google.com/github/adestikaningsih/a185-pengembangan-ml/blob/main/Untitled26.ipynb\" target=\"_parent\"><img src=\"https://colab.research.google.com/assets/colab-badge.svg\" alt=\"Open In Colab\"/></a>"
      ]
    },
    {
      "cell_type": "code",
      "execution_count": 14,
      "metadata": {
        "colab": {
          "base_uri": "https://localhost:8080/"
        },
        "id": "qZaKRLt2Ym1s",
        "outputId": "98f04441-58fa-4fb6-9fde-f32add647239"
      },
      "outputs": [
        {
          "output_type": "stream",
          "name": "stdout",
          "text": [
            "Looking in indexes: https://pypi.org/simple, https://us-python.pkg.dev/colab-wheels/public/simple/\n",
            "Collecting plotly-express\n",
            "  Downloading plotly_express-0.4.1-py2.py3-none-any.whl (2.9 kB)\n",
            "Requirement already satisfied: plotly>=4.1.0 in /usr/local/lib/python3.7/dist-packages (from plotly-express) (5.5.0)\n",
            "Requirement already satisfied: scipy>=0.18 in /usr/local/lib/python3.7/dist-packages (from plotly-express) (1.7.3)\n",
            "Requirement already satisfied: statsmodels>=0.9.0 in /usr/local/lib/python3.7/dist-packages (from plotly-express) (0.12.2)\n",
            "Requirement already satisfied: pandas>=0.20.0 in /usr/local/lib/python3.7/dist-packages (from plotly-express) (1.3.5)\n",
            "Requirement already satisfied: patsy>=0.5 in /usr/local/lib/python3.7/dist-packages (from plotly-express) (0.5.2)\n",
            "Requirement already satisfied: numpy>=1.11 in /usr/local/lib/python3.7/dist-packages (from plotly-express) (1.21.6)\n",
            "Requirement already satisfied: pytz>=2017.3 in /usr/local/lib/python3.7/dist-packages (from pandas>=0.20.0->plotly-express) (2022.2.1)\n",
            "Requirement already satisfied: python-dateutil>=2.7.3 in /usr/local/lib/python3.7/dist-packages (from pandas>=0.20.0->plotly-express) (2.8.2)\n",
            "Requirement already satisfied: six in /usr/local/lib/python3.7/dist-packages (from patsy>=0.5->plotly-express) (1.15.0)\n",
            "Requirement already satisfied: tenacity>=6.2.0 in /usr/local/lib/python3.7/dist-packages (from plotly>=4.1.0->plotly-express) (8.0.1)\n",
            "Installing collected packages: plotly-express\n",
            "Successfully installed plotly-express-0.4.1\n"
          ]
        }
      ],
      "source": [
        "# Import Library\n",
        "!pip install plotly-express\n",
        "\n",
        "import matplotlib.pyplot as plt\n",
        "import plotly_express as px\n",
        "import seaborn as sns\n",
        "import pandas as pd\n",
        "import numpy as np\n",
        "\n",
        "\n",
        "\n",
        "from sklearn.feature_extraction.text import TfidfVectorizer\n",
        "from sklearn.metrics.pairwise import cosine_similarity"
      ]
    },
    {
      "cell_type": "code",
      "source": [
        "from google.colab import drive"
      ],
      "metadata": {
        "id": "7g6i-K6snt6L"
      },
      "execution_count": 15,
      "outputs": []
    },
    {
      "cell_type": "code",
      "source": [
        "drive.mount('/content/drive')\n"
      ],
      "metadata": {
        "colab": {
          "base_uri": "https://localhost:8080/"
        },
        "id": "epA2MzedYzKJ",
        "outputId": "76c7d43a-ceab-4548-b198-db7cf71772e8"
      },
      "execution_count": 16,
      "outputs": [
        {
          "output_type": "stream",
          "name": "stdout",
          "text": [
            "Drive already mounted at /content/drive; to attempt to forcibly remount, call drive.mount(\"/content/drive\", force_remount=True).\n"
          ]
        }
      ]
    },
    {
      "cell_type": "code",
      "source": [
        "import os\n",
        "#os.environ['KAGGLE_CONFIG_DIR'] ='/content/drive/MyDrive/kaggle_dataset/kaggle (1).json'"
      ],
      "metadata": {
        "id": "7_DGTlbPnHOa"
      },
      "execution_count": 17,
      "outputs": []
    },
    {
      "cell_type": "code",
      "source": [
        "# Download datasets from kaggle\n",
        "!ls\n"
      ],
      "metadata": {
        "colab": {
          "base_uri": "https://localhost:8080/"
        },
        "id": "V3uB7duFY1aK",
        "outputId": "45963a18-f41a-4240-ea42-54ec5c9ff54a"
      },
      "execution_count": 18,
      "outputs": [
        {
          "output_type": "stream",
          "name": "stdout",
          "text": [
            "drive  sample_data\n"
          ]
        }
      ]
    },
    {
      "cell_type": "code",
      "source": [
        "#!kaggle datasets download -d arashnic/book-recommendation-dataset"
      ],
      "metadata": {
        "id": "K-FSMSZynYuF"
      },
      "execution_count": 19,
      "outputs": []
    },
    {
      "cell_type": "code",
      "source": [
        "#!unzip book-recommendation-dataset.zip"
      ],
      "metadata": {
        "id": "cK3W6OfUkYRz"
      },
      "execution_count": 20,
      "outputs": []
    },
    {
      "cell_type": "code",
      "source": [
        "book = pd.read_csv('/content/drive/MyDrive/kaggle_dataset/archive/Books.csv')\n",
        "rating = pd.read_csv('/content/drive/MyDrive/kaggle_dataset/archive/Ratings.csv')"
      ],
      "metadata": {
        "colab": {
          "base_uri": "https://localhost:8080/"
        },
        "id": "Pz4gcBJ2ZFwx",
        "outputId": "10371782-e952-429a-946c-fc47603e212f"
      },
      "execution_count": 21,
      "outputs": [
        {
          "output_type": "stream",
          "name": "stderr",
          "text": [
            "/usr/local/lib/python3.7/dist-packages/IPython/core/interactiveshell.py:3326: DtypeWarning: Columns (3) have mixed types.Specify dtype option on import or set low_memory=False.\n",
            "  exec(code_obj, self.user_global_ns, self.user_ns)\n"
          ]
        }
      ]
    },
    {
      "cell_type": "code",
      "source": [
        "book.shape"
      ],
      "metadata": {
        "colab": {
          "base_uri": "https://localhost:8080/"
        },
        "id": "JgQFznDCZHuK",
        "outputId": "54c4c429-be42-481b-80ec-cf700a77b8d3"
      },
      "execution_count": 22,
      "outputs": [
        {
          "output_type": "execute_result",
          "data": {
            "text/plain": [
              "(271360, 8)"
            ]
          },
          "metadata": {},
          "execution_count": 22
        }
      ]
    },
    {
      "cell_type": "code",
      "source": [
        "rating.shape"
      ],
      "metadata": {
        "colab": {
          "base_uri": "https://localhost:8080/"
        },
        "id": "iKEgJhf8ZKlL",
        "outputId": "bd52e66f-b56b-49c1-c18a-36087270a607"
      },
      "execution_count": 23,
      "outputs": [
        {
          "output_type": "execute_result",
          "data": {
            "text/plain": [
              "(1149780, 3)"
            ]
          },
          "metadata": {},
          "execution_count": 23
        }
      ]
    },
    {
      "cell_type": "code",
      "source": [
        "book = book[:100000]\n",
        "rating = rating[:10000]"
      ],
      "metadata": {
        "id": "U4A1Msv_cBOZ"
      },
      "execution_count": 24,
      "outputs": []
    },
    {
      "cell_type": "code",
      "source": [
        "book.info()"
      ],
      "metadata": {
        "colab": {
          "base_uri": "https://localhost:8080/"
        },
        "id": "xQzMCPy8ZT2R",
        "outputId": "e6a8ab68-aed9-4133-9654-7fb8e25d641e"
      },
      "execution_count": 25,
      "outputs": [
        {
          "output_type": "stream",
          "name": "stdout",
          "text": [
            "<class 'pandas.core.frame.DataFrame'>\n",
            "RangeIndex: 100000 entries, 0 to 99999\n",
            "Data columns (total 8 columns):\n",
            " #   Column               Non-Null Count   Dtype \n",
            "---  ------               --------------   ----- \n",
            " 0   ISBN                 100000 non-null  object\n",
            " 1   Book-Title           100000 non-null  object\n",
            " 2   Book-Author          100000 non-null  object\n",
            " 3   Year-Of-Publication  100000 non-null  object\n",
            " 4   Publisher            100000 non-null  object\n",
            " 5   Image-URL-S          100000 non-null  object\n",
            " 6   Image-URL-M          100000 non-null  object\n",
            " 7   Image-URL-L          100000 non-null  object\n",
            "dtypes: object(8)\n",
            "memory usage: 6.1+ MB\n"
          ]
        }
      ]
    },
    {
      "cell_type": "code",
      "source": [
        "book.head(3)"
      ],
      "metadata": {
        "colab": {
          "base_uri": "https://localhost:8080/",
          "height": 144
        },
        "id": "1qLkE-0CZfJZ",
        "outputId": "e45bfc88-c598-4a61-ba3a-095a51b12b19"
      },
      "execution_count": 26,
      "outputs": [
        {
          "output_type": "execute_result",
          "data": {
            "text/plain": [
              "         ISBN            Book-Title           Book-Author Year-Of-Publication  \\\n",
              "0  0195153448   Classical Mythology    Mark P. O. Morford                2002   \n",
              "1  0002005018          Clara Callan  Richard Bruce Wright                2001   \n",
              "2  0060973129  Decision in Normandy          Carlo D'Este                1991   \n",
              "\n",
              "                 Publisher                                        Image-URL-S  \\\n",
              "0  Oxford University Press  http://images.amazon.com/images/P/0195153448.0...   \n",
              "1    HarperFlamingo Canada  http://images.amazon.com/images/P/0002005018.0...   \n",
              "2          HarperPerennial  http://images.amazon.com/images/P/0060973129.0...   \n",
              "\n",
              "                                         Image-URL-M  \\\n",
              "0  http://images.amazon.com/images/P/0195153448.0...   \n",
              "1  http://images.amazon.com/images/P/0002005018.0...   \n",
              "2  http://images.amazon.com/images/P/0060973129.0...   \n",
              "\n",
              "                                         Image-URL-L  \n",
              "0  http://images.amazon.com/images/P/0195153448.0...  \n",
              "1  http://images.amazon.com/images/P/0002005018.0...  \n",
              "2  http://images.amazon.com/images/P/0060973129.0...  "
            ],
            "text/html": [
              "\n",
              "  <div id=\"df-3942151f-088c-4ca1-8b98-2b57c45ab1a8\">\n",
              "    <div class=\"colab-df-container\">\n",
              "      <div>\n",
              "<style scoped>\n",
              "    .dataframe tbody tr th:only-of-type {\n",
              "        vertical-align: middle;\n",
              "    }\n",
              "\n",
              "    .dataframe tbody tr th {\n",
              "        vertical-align: top;\n",
              "    }\n",
              "\n",
              "    .dataframe thead th {\n",
              "        text-align: right;\n",
              "    }\n",
              "</style>\n",
              "<table border=\"1\" class=\"dataframe\">\n",
              "  <thead>\n",
              "    <tr style=\"text-align: right;\">\n",
              "      <th></th>\n",
              "      <th>ISBN</th>\n",
              "      <th>Book-Title</th>\n",
              "      <th>Book-Author</th>\n",
              "      <th>Year-Of-Publication</th>\n",
              "      <th>Publisher</th>\n",
              "      <th>Image-URL-S</th>\n",
              "      <th>Image-URL-M</th>\n",
              "      <th>Image-URL-L</th>\n",
              "    </tr>\n",
              "  </thead>\n",
              "  <tbody>\n",
              "    <tr>\n",
              "      <th>0</th>\n",
              "      <td>0195153448</td>\n",
              "      <td>Classical Mythology</td>\n",
              "      <td>Mark P. O. Morford</td>\n",
              "      <td>2002</td>\n",
              "      <td>Oxford University Press</td>\n",
              "      <td>http://images.amazon.com/images/P/0195153448.0...</td>\n",
              "      <td>http://images.amazon.com/images/P/0195153448.0...</td>\n",
              "      <td>http://images.amazon.com/images/P/0195153448.0...</td>\n",
              "    </tr>\n",
              "    <tr>\n",
              "      <th>1</th>\n",
              "      <td>0002005018</td>\n",
              "      <td>Clara Callan</td>\n",
              "      <td>Richard Bruce Wright</td>\n",
              "      <td>2001</td>\n",
              "      <td>HarperFlamingo Canada</td>\n",
              "      <td>http://images.amazon.com/images/P/0002005018.0...</td>\n",
              "      <td>http://images.amazon.com/images/P/0002005018.0...</td>\n",
              "      <td>http://images.amazon.com/images/P/0002005018.0...</td>\n",
              "    </tr>\n",
              "    <tr>\n",
              "      <th>2</th>\n",
              "      <td>0060973129</td>\n",
              "      <td>Decision in Normandy</td>\n",
              "      <td>Carlo D'Este</td>\n",
              "      <td>1991</td>\n",
              "      <td>HarperPerennial</td>\n",
              "      <td>http://images.amazon.com/images/P/0060973129.0...</td>\n",
              "      <td>http://images.amazon.com/images/P/0060973129.0...</td>\n",
              "      <td>http://images.amazon.com/images/P/0060973129.0...</td>\n",
              "    </tr>\n",
              "  </tbody>\n",
              "</table>\n",
              "</div>\n",
              "      <button class=\"colab-df-convert\" onclick=\"convertToInteractive('df-3942151f-088c-4ca1-8b98-2b57c45ab1a8')\"\n",
              "              title=\"Convert this dataframe to an interactive table.\"\n",
              "              style=\"display:none;\">\n",
              "        \n",
              "  <svg xmlns=\"http://www.w3.org/2000/svg\" height=\"24px\"viewBox=\"0 0 24 24\"\n",
              "       width=\"24px\">\n",
              "    <path d=\"M0 0h24v24H0V0z\" fill=\"none\"/>\n",
              "    <path d=\"M18.56 5.44l.94 2.06.94-2.06 2.06-.94-2.06-.94-.94-2.06-.94 2.06-2.06.94zm-11 1L8.5 8.5l.94-2.06 2.06-.94-2.06-.94L8.5 2.5l-.94 2.06-2.06.94zm10 10l.94 2.06.94-2.06 2.06-.94-2.06-.94-.94-2.06-.94 2.06-2.06.94z\"/><path d=\"M17.41 7.96l-1.37-1.37c-.4-.4-.92-.59-1.43-.59-.52 0-1.04.2-1.43.59L10.3 9.45l-7.72 7.72c-.78.78-.78 2.05 0 2.83L4 21.41c.39.39.9.59 1.41.59.51 0 1.02-.2 1.41-.59l7.78-7.78 2.81-2.81c.8-.78.8-2.07 0-2.86zM5.41 20L4 18.59l7.72-7.72 1.47 1.35L5.41 20z\"/>\n",
              "  </svg>\n",
              "      </button>\n",
              "      \n",
              "  <style>\n",
              "    .colab-df-container {\n",
              "      display:flex;\n",
              "      flex-wrap:wrap;\n",
              "      gap: 12px;\n",
              "    }\n",
              "\n",
              "    .colab-df-convert {\n",
              "      background-color: #E8F0FE;\n",
              "      border: none;\n",
              "      border-radius: 50%;\n",
              "      cursor: pointer;\n",
              "      display: none;\n",
              "      fill: #1967D2;\n",
              "      height: 32px;\n",
              "      padding: 0 0 0 0;\n",
              "      width: 32px;\n",
              "    }\n",
              "\n",
              "    .colab-df-convert:hover {\n",
              "      background-color: #E2EBFA;\n",
              "      box-shadow: 0px 1px 2px rgba(60, 64, 67, 0.3), 0px 1px 3px 1px rgba(60, 64, 67, 0.15);\n",
              "      fill: #174EA6;\n",
              "    }\n",
              "\n",
              "    [theme=dark] .colab-df-convert {\n",
              "      background-color: #3B4455;\n",
              "      fill: #D2E3FC;\n",
              "    }\n",
              "\n",
              "    [theme=dark] .colab-df-convert:hover {\n",
              "      background-color: #434B5C;\n",
              "      box-shadow: 0px 1px 3px 1px rgba(0, 0, 0, 0.15);\n",
              "      filter: drop-shadow(0px 1px 2px rgba(0, 0, 0, 0.3));\n",
              "      fill: #FFFFFF;\n",
              "    }\n",
              "  </style>\n",
              "\n",
              "      <script>\n",
              "        const buttonEl =\n",
              "          document.querySelector('#df-3942151f-088c-4ca1-8b98-2b57c45ab1a8 button.colab-df-convert');\n",
              "        buttonEl.style.display =\n",
              "          google.colab.kernel.accessAllowed ? 'block' : 'none';\n",
              "\n",
              "        async function convertToInteractive(key) {\n",
              "          const element = document.querySelector('#df-3942151f-088c-4ca1-8b98-2b57c45ab1a8');\n",
              "          const dataTable =\n",
              "            await google.colab.kernel.invokeFunction('convertToInteractive',\n",
              "                                                     [key], {});\n",
              "          if (!dataTable) return;\n",
              "\n",
              "          const docLinkHtml = 'Like what you see? Visit the ' +\n",
              "            '<a target=\"_blank\" href=https://colab.research.google.com/notebooks/data_table.ipynb>data table notebook</a>'\n",
              "            + ' to learn more about interactive tables.';\n",
              "          element.innerHTML = '';\n",
              "          dataTable['output_type'] = 'display_data';\n",
              "          await google.colab.output.renderOutput(dataTable, element);\n",
              "          const docLink = document.createElement('div');\n",
              "          docLink.innerHTML = docLinkHtml;\n",
              "          element.appendChild(docLink);\n",
              "        }\n",
              "      </script>\n",
              "    </div>\n",
              "  </div>\n",
              "  "
            ]
          },
          "metadata": {},
          "execution_count": 26
        }
      ]
    },
    {
      "cell_type": "code",
      "source": [
        "rating.info()"
      ],
      "metadata": {
        "colab": {
          "base_uri": "https://localhost:8080/"
        },
        "id": "5cCc353QZg-p",
        "outputId": "68dbcaad-b44b-49e5-8b9d-1f3f950d22ea"
      },
      "execution_count": 27,
      "outputs": [
        {
          "output_type": "stream",
          "name": "stdout",
          "text": [
            "<class 'pandas.core.frame.DataFrame'>\n",
            "RangeIndex: 10000 entries, 0 to 9999\n",
            "Data columns (total 3 columns):\n",
            " #   Column       Non-Null Count  Dtype \n",
            "---  ------       --------------  ----- \n",
            " 0   User-ID      10000 non-null  int64 \n",
            " 1   ISBN         10000 non-null  object\n",
            " 2   Book-Rating  10000 non-null  int64 \n",
            "dtypes: int64(2), object(1)\n",
            "memory usage: 234.5+ KB\n"
          ]
        }
      ]
    },
    {
      "cell_type": "code",
      "source": [
        "# hapus kolom yang tidak digunakan\n",
        "book = book.drop(columns=['Image-URL-M','Image-URL-L'])"
      ],
      "metadata": {
        "id": "uwYmZaGlZuUz"
      },
      "execution_count": 28,
      "outputs": []
    },
    {
      "cell_type": "code",
      "source": [
        "book.info()"
      ],
      "metadata": {
        "colab": {
          "base_uri": "https://localhost:8080/"
        },
        "id": "aTRfHeNFZxnT",
        "outputId": "d6a5dc38-af1b-4c0b-9c99-3998c4be82e0"
      },
      "execution_count": 29,
      "outputs": [
        {
          "output_type": "stream",
          "name": "stdout",
          "text": [
            "<class 'pandas.core.frame.DataFrame'>\n",
            "RangeIndex: 100000 entries, 0 to 99999\n",
            "Data columns (total 6 columns):\n",
            " #   Column               Non-Null Count   Dtype \n",
            "---  ------               --------------   ----- \n",
            " 0   ISBN                 100000 non-null  object\n",
            " 1   Book-Title           100000 non-null  object\n",
            " 2   Book-Author          100000 non-null  object\n",
            " 3   Year-Of-Publication  100000 non-null  object\n",
            " 4   Publisher            100000 non-null  object\n",
            " 5   Image-URL-S          100000 non-null  object\n",
            "dtypes: object(6)\n",
            "memory usage: 4.6+ MB\n"
          ]
        }
      ]
    },
    {
      "cell_type": "code",
      "source": [
        "book = book.drop(columns=['Image-URL-S'])"
      ],
      "metadata": {
        "id": "mrSXtiPyZ0ap"
      },
      "execution_count": 30,
      "outputs": []
    },
    {
      "cell_type": "code",
      "source": [
        "# Rename column rating\n",
        "rating = rating.rename(columns={'Book-Rating': 'rating','User-ID':'user_id'})"
      ],
      "metadata": {
        "id": "CQRyLpmKZ20b"
      },
      "execution_count": 31,
      "outputs": []
    },
    {
      "cell_type": "code",
      "source": [
        "book = book.dropna()\n",
        "rating = rating.dropna()"
      ],
      "metadata": {
        "id": "YjTn8sY7Z4pQ"
      },
      "execution_count": 32,
      "outputs": []
    },
    {
      "cell_type": "code",
      "source": [
        "# Mengecek Missing Value\n",
        "book.isnull().sum()"
      ],
      "metadata": {
        "colab": {
          "base_uri": "https://localhost:8080/"
        },
        "id": "bL4gxgmkZ7k6",
        "outputId": "b112028b-51dc-4c2e-bd40-5df2e75a966c"
      },
      "execution_count": 33,
      "outputs": [
        {
          "output_type": "execute_result",
          "data": {
            "text/plain": [
              "ISBN                   0\n",
              "Book-Title             0\n",
              "Book-Author            0\n",
              "Year-Of-Publication    0\n",
              "Publisher              0\n",
              "dtype: int64"
            ]
          },
          "metadata": {},
          "execution_count": 33
        }
      ]
    },
    {
      "cell_type": "code",
      "source": [
        "# Mengecek Missing Value\n",
        "rating.isnull().sum()"
      ],
      "metadata": {
        "colab": {
          "base_uri": "https://localhost:8080/"
        },
        "id": "8gB5XoIBZ9eg",
        "outputId": "8868a845-62bf-46d4-f3f7-1411bce6e984"
      },
      "execution_count": 34,
      "outputs": [
        {
          "output_type": "execute_result",
          "data": {
            "text/plain": [
              "user_id    0\n",
              "ISBN       0\n",
              "rating     0\n",
              "dtype: int64"
            ]
          },
          "metadata": {},
          "execution_count": 34
        }
      ]
    },
    {
      "cell_type": "code",
      "source": [
        "# Top rate book\n",
        "top_rated = book.sort_values('ISBN', ascending=False)\n",
        "tf_top_rated = top_rated[:25]\n",
        "fig = px.bar(tf_top_rated, x=\"ISBN\", y=\"Book-Title\", title='Buku Berperingkat Teratas dan Peringkatnya',\n",
        "             orientation='h', color='Book-Title', width=1500, height=700)\n",
        "fig.show()"
      ],
      "metadata": {
        "colab": {
          "base_uri": "https://localhost:8080/",
          "height": 717
        },
        "id": "vacu3sWdZ_CS",
        "outputId": "1454f1fb-34ab-4cfe-a314-b4c228d33cfb"
      },
      "execution_count": 35,
      "outputs": [
        {
          "output_type": "display_data",
          "data": {
            "text/html": [
              "<html>\n",
              "<head><meta charset=\"utf-8\" /></head>\n",
              "<body>\n",
              "    <div>            <script src=\"https://cdnjs.cloudflare.com/ajax/libs/mathjax/2.7.5/MathJax.js?config=TeX-AMS-MML_SVG\"></script><script type=\"text/javascript\">if (window.MathJax) {MathJax.Hub.Config({SVG: {font: \"STIX-Web\"}});}</script>                <script type=\"text/javascript\">window.PlotlyConfig = {MathJaxConfig: 'local'};</script>\n",
              "        <script src=\"https://cdn.plot.ly/plotly-2.8.3.min.js\"></script>                <div id=\"96adbd69-38c0-476d-89d7-698e5d165622\" class=\"plotly-graph-div\" style=\"height:700px; width:1500px;\"></div>            <script type=\"text/javascript\">                                    window.PLOTLYENV=window.PLOTLYENV || {};                                    if (document.getElementById(\"96adbd69-38c0-476d-89d7-698e5d165622\")) {                    Plotly.newPlot(                        \"96adbd69-38c0-476d-89d7-698e5d165622\",                        [{\"alignmentgroup\":\"True\",\"hovertemplate\":\"Book-Title=%{y}<br>ISBN=%{x}<extra></extra>\",\"legendgroup\":\"Falling Angels\",\"marker\":{\"color\":\"#636efa\",\"pattern\":{\"shape\":\"\"}},\"name\":\"Falling Angels\",\"offsetgroup\":\"Falling Angels\",\"orientation\":\"h\",\"showlegend\":true,\"textposition\":\"auto\",\"x\":[\"B000234N76\"],\"xaxis\":\"x\",\"y\":[\"Falling Angels\"],\"yaxis\":\"y\",\"type\":\"bar\"},{\"alignmentgroup\":\"True\",\"hovertemplate\":\"Book-Title=%{y}<br>ISBN=%{x}<extra></extra>\",\"legendgroup\":\"Fahrenheit 451\",\"marker\":{\"color\":\"#EF553B\",\"pattern\":{\"shape\":\"\"}},\"name\":\"Fahrenheit 451\",\"offsetgroup\":\"Fahrenheit 451\",\"orientation\":\"h\",\"showlegend\":true,\"textposition\":\"auto\",\"x\":[\"B0001PIOX4\"],\"xaxis\":\"x\",\"y\":[\"Fahrenheit 451\"],\"yaxis\":\"y\",\"type\":\"bar\"},{\"alignmentgroup\":\"True\",\"hovertemplate\":\"Book-Title=%{y}<br>ISBN=%{x}<extra></extra>\",\"legendgroup\":\"Find Me\",\"marker\":{\"color\":\"#00cc96\",\"pattern\":{\"shape\":\"\"}},\"name\":\"Find Me\",\"offsetgroup\":\"Find Me\",\"orientation\":\"h\",\"showlegend\":true,\"textposition\":\"auto\",\"x\":[\"B0001GMSV2\"],\"xaxis\":\"x\",\"y\":[\"Find Me\"],\"yaxis\":\"y\",\"type\":\"bar\"},{\"alignmentgroup\":\"True\",\"hovertemplate\":\"Book-Title=%{y}<br>ISBN=%{x}<extra></extra>\",\"legendgroup\":\"The Taming\",\"marker\":{\"color\":\"#ab63fa\",\"pattern\":{\"shape\":\"\"}},\"name\":\"The Taming\",\"offsetgroup\":\"The Taming\",\"orientation\":\"h\",\"showlegend\":true,\"textposition\":\"auto\",\"x\":[\"B0001GDNCK\"],\"xaxis\":\"x\",\"y\":[\"The Taming\"],\"yaxis\":\"y\",\"type\":\"bar\"},{\"alignmentgroup\":\"True\",\"hovertemplate\":\"Book-Title=%{y}<br>ISBN=%{x}<extra></extra>\",\"legendgroup\":\"I'll Let You Go: A Novel\",\"marker\":{\"color\":\"#FFA15A\",\"pattern\":{\"shape\":\"\"}},\"name\":\"I'll Let You Go: A Novel\",\"offsetgroup\":\"I'll Let You Go: A Novel\",\"orientation\":\"h\",\"showlegend\":true,\"textposition\":\"auto\",\"x\":[\"B0001FZGTO\"],\"xaxis\":\"x\",\"y\":[\"I'll Let You Go: A Novel\"],\"yaxis\":\"y\",\"type\":\"bar\"},{\"alignmentgroup\":\"True\",\"hovertemplate\":\"Book-Title=%{y}<br>ISBN=%{x}<extra></extra>\",\"legendgroup\":\"The Wonderful Wizard of Oz\",\"marker\":{\"color\":\"#19d3f3\",\"pattern\":{\"shape\":\"\"}},\"name\":\"The Wonderful Wizard of Oz\",\"offsetgroup\":\"The Wonderful Wizard of Oz\",\"orientation\":\"h\",\"showlegend\":true,\"textposition\":\"auto\",\"x\":[\"B000199D26\"],\"xaxis\":\"x\",\"y\":[\"The Wonderful Wizard of Oz\"],\"yaxis\":\"y\",\"type\":\"bar\"},{\"alignmentgroup\":\"True\",\"hovertemplate\":\"Book-Title=%{y}<br>ISBN=%{x}<extra></extra>\",\"legendgroup\":\"Without Pity: Ann Rule's Most Dangerous Killers\",\"marker\":{\"color\":\"#FF6692\",\"pattern\":{\"shape\":\"\"}},\"name\":\"Without Pity: Ann Rule's Most Dangerous Killers\",\"offsetgroup\":\"Without Pity: Ann Rule's Most Dangerous Killers\",\"orientation\":\"h\",\"showlegend\":true,\"textposition\":\"auto\",\"x\":[\"B00016560C\"],\"xaxis\":\"x\",\"y\":[\"Without Pity: Ann Rule's Most Dangerous Killers\"],\"yaxis\":\"y\",\"type\":\"bar\"},{\"alignmentgroup\":\"True\",\"hovertemplate\":\"Book-Title=%{y}<br>ISBN=%{x}<extra></extra>\",\"legendgroup\":\"Discover Your Genius: How to Think Like History's Ten Most Revolutionary Minds\",\"marker\":{\"color\":\"#B6E880\",\"pattern\":{\"shape\":\"\"}},\"name\":\"Discover Your Genius: How to Think Like History's Ten Most Revolutionary Minds\",\"offsetgroup\":\"Discover Your Genius: How to Think Like History's Ten Most Revolutionary Minds\",\"orientation\":\"h\",\"showlegend\":true,\"textposition\":\"auto\",\"x\":[\"B0000DAPP1\"],\"xaxis\":\"x\",\"y\":[\"Discover Your Genius: How to Think Like History's Ten Most Revolutionary Minds\"],\"yaxis\":\"y\",\"type\":\"bar\"},{\"alignmentgroup\":\"True\",\"hovertemplate\":\"Book-Title=%{y}<br>ISBN=%{x}<extra></extra>\",\"legendgroup\":\"Hard Eight\",\"marker\":{\"color\":\"#FF97FF\",\"pattern\":{\"shape\":\"\"}},\"name\":\"Hard Eight\",\"offsetgroup\":\"Hard Eight\",\"orientation\":\"h\",\"showlegend\":true,\"textposition\":\"auto\",\"x\":[\"B0000DAOHN\"],\"xaxis\":\"x\",\"y\":[\"Hard Eight\"],\"yaxis\":\"y\",\"type\":\"bar\"},{\"alignmentgroup\":\"True\",\"hovertemplate\":\"Book-Title=%{y}<br>ISBN=%{x}<extra></extra>\",\"legendgroup\":\"Fatal Voyage : A Novel\",\"marker\":{\"color\":\"#FECB52\",\"pattern\":{\"shape\":\"\"}},\"name\":\"Fatal Voyage : A Novel\",\"offsetgroup\":\"Fatal Voyage : A Novel\",\"orientation\":\"h\",\"showlegend\":true,\"textposition\":\"auto\",\"x\":[\"B0000C37EK\"],\"xaxis\":\"x\",\"y\":[\"Fatal Voyage : A Novel\"],\"yaxis\":\"y\",\"type\":\"bar\"},{\"alignmentgroup\":\"True\",\"hovertemplate\":\"Book-Title=%{y}<br>ISBN=%{x}<extra></extra>\",\"legendgroup\":\"Carmilla\",\"marker\":{\"color\":\"#636efa\",\"pattern\":{\"shape\":\"\"}},\"name\":\"Carmilla\",\"offsetgroup\":\"Carmilla\",\"orientation\":\"h\",\"showlegend\":true,\"textposition\":\"auto\",\"x\":[\"B0000A2U93\"],\"xaxis\":\"x\",\"y\":[\"Carmilla\"],\"yaxis\":\"y\",\"type\":\"bar\"},{\"alignmentgroup\":\"True\",\"hovertemplate\":\"Book-Title=%{y}<br>ISBN=%{x}<extra></extra>\",\"legendgroup\":\"Atonement\",\"marker\":{\"color\":\"#EF553B\",\"pattern\":{\"shape\":\"\"}},\"name\":\"Atonement\",\"offsetgroup\":\"Atonement\",\"orientation\":\"h\",\"showlegend\":true,\"textposition\":\"auto\",\"x\":[\"B00009ZWDN\"],\"xaxis\":\"x\",\"y\":[\"Atonement\"],\"yaxis\":\"y\",\"type\":\"bar\"},{\"alignmentgroup\":\"True\",\"hovertemplate\":\"Book-Title=%{y}<br>ISBN=%{x}<extra></extra>\",\"legendgroup\":\"Winter Solstice\",\"marker\":{\"color\":\"#00cc96\",\"pattern\":{\"shape\":\"\"}},\"name\":\"Winter Solstice\",\"offsetgroup\":\"Winter Solstice\",\"orientation\":\"h\",\"showlegend\":true,\"textposition\":\"auto\",\"x\":[\"B00009NDAN\"],\"xaxis\":\"x\",\"y\":[\"Winter Solstice\"],\"yaxis\":\"y\",\"type\":\"bar\"},{\"alignmentgroup\":\"True\",\"hovertemplate\":\"Book-Title=%{y}<br>ISBN=%{x}<extra></extra>\",\"legendgroup\":\"Hannibal\",\"marker\":{\"color\":\"#ab63fa\",\"pattern\":{\"shape\":\"\"}},\"name\":\"Hannibal\",\"offsetgroup\":\"Hannibal\",\"orientation\":\"h\",\"showlegend\":true,\"textposition\":\"auto\",\"x\":[\"B00009EF82\"],\"xaxis\":\"x\",\"y\":[\"Hannibal\"],\"yaxis\":\"y\",\"type\":\"bar\"},{\"alignmentgroup\":\"True\",\"hovertemplate\":\"Book-Title=%{y}<br>ISBN=%{x}<extra></extra>\",\"legendgroup\":\"Moby Dick\",\"marker\":{\"color\":\"#FFA15A\",\"pattern\":{\"shape\":\"\"}},\"name\":\"Moby Dick\",\"offsetgroup\":\"Moby Dick\",\"orientation\":\"h\",\"showlegend\":true,\"textposition\":\"auto\",\"x\":[\"B00009APKU\"],\"xaxis\":\"x\",\"y\":[\"Moby Dick\"],\"yaxis\":\"y\",\"type\":\"bar\"},{\"alignmentgroup\":\"True\",\"hovertemplate\":\"Book-Title=%{y}<br>ISBN=%{x}<extra></extra>\",\"legendgroup\":\"Cane River\",\"marker\":{\"color\":\"#19d3f3\",\"pattern\":{\"shape\":\"\"}},\"name\":\"Cane River\",\"offsetgroup\":\"Cane River\",\"orientation\":\"h\",\"showlegend\":true,\"textposition\":\"auto\",\"x\":[\"B00009ANY9\"],\"xaxis\":\"x\",\"y\":[\"Cane River\"],\"yaxis\":\"y\",\"type\":\"bar\"},{\"alignmentgroup\":\"True\",\"hovertemplate\":\"Book-Title=%{y}<br>ISBN=%{x}<extra></extra>\",\"legendgroup\":\"Keeping Watch\",\"marker\":{\"color\":\"#FF6692\",\"pattern\":{\"shape\":\"\"}},\"name\":\"Keeping Watch\",\"offsetgroup\":\"Keeping Watch\",\"orientation\":\"h\",\"showlegend\":true,\"textposition\":\"auto\",\"x\":[\"B00008R0WT\"],\"xaxis\":\"x\",\"y\":[\"Keeping Watch\"],\"yaxis\":\"y\",\"type\":\"bar\"},{\"alignmentgroup\":\"True\",\"hovertemplate\":\"Book-Title=%{y}<br>ISBN=%{x}<extra></extra>\",\"legendgroup\":\"Mystic Rose, The\",\"marker\":{\"color\":\"#B6E880\",\"pattern\":{\"shape\":\"\"}},\"name\":\"Mystic Rose, The\",\"offsetgroup\":\"Mystic Rose, The\",\"orientation\":\"h\",\"showlegend\":true,\"textposition\":\"auto\",\"x\":[\"B00008NRHQ\"],\"xaxis\":\"x\",\"y\":[\"Mystic Rose, The\"],\"yaxis\":\"y\",\"type\":\"bar\"},{\"alignmentgroup\":\"True\",\"hovertemplate\":\"Book-Title=%{y}<br>ISBN=%{x}<extra></extra>\",\"legendgroup\":\"More, Now, Again: A Memoir of Addiction\",\"marker\":{\"color\":\"#FF97FF\",\"pattern\":{\"shape\":\"\"}},\"name\":\"More, Now, Again: A Memoir of Addiction\",\"offsetgroup\":\"More, Now, Again: A Memoir of Addiction\",\"orientation\":\"h\",\"showlegend\":true,\"textposition\":\"auto\",\"x\":[\"B00007MF56\"],\"xaxis\":\"x\",\"y\":[\"More, Now, Again: A Memoir of Addiction\"],\"yaxis\":\"y\",\"type\":\"bar\"},{\"alignmentgroup\":\"True\",\"hovertemplate\":\"Book-Title=%{y}<br>ISBN=%{x}<extra></extra>\",\"legendgroup\":\"The Green Ray\",\"marker\":{\"color\":\"#FECB52\",\"pattern\":{\"shape\":\"\"}},\"name\":\"The Green Ray\",\"offsetgroup\":\"The Green Ray\",\"orientation\":\"h\",\"showlegend\":true,\"textposition\":\"auto\",\"x\":[\"B00007MAM9\"],\"xaxis\":\"x\",\"y\":[\"The Green Ray\"],\"yaxis\":\"y\",\"type\":\"bar\"},{\"alignmentgroup\":\"True\",\"hovertemplate\":\"Book-Title=%{y}<br>ISBN=%{x}<extra></extra>\",\"legendgroup\":\"Bloodcurdling Tales of Horror and the Macabre: The Best of H. P. Lovecraft\",\"marker\":{\"color\":\"#636efa\",\"pattern\":{\"shape\":\"\"}},\"name\":\"Bloodcurdling Tales of Horror and the Macabre: The Best of H. P. Lovecraft\",\"offsetgroup\":\"Bloodcurdling Tales of Horror and the Macabre: The Best of H. P. Lovecraft\",\"orientation\":\"h\",\"showlegend\":true,\"textposition\":\"auto\",\"x\":[\"B00007FYKO\"],\"xaxis\":\"x\",\"y\":[\"Bloodcurdling Tales of Horror and the Macabre: The Best of H. P. Lovecraft\"],\"yaxis\":\"y\",\"type\":\"bar\"},{\"alignmentgroup\":\"True\",\"hovertemplate\":\"Book-Title=%{y}<br>ISBN=%{x}<extra></extra>\",\"legendgroup\":\"Devil Knows You're Dead, The: A Matthew Scudder Crime Novel\",\"marker\":{\"color\":\"#EF553B\",\"pattern\":{\"shape\":\"\"}},\"name\":\"Devil Knows You're Dead, The: A Matthew Scudder Crime Novel\",\"offsetgroup\":\"Devil Knows You're Dead, The: A Matthew Scudder Crime Novel\",\"orientation\":\"h\",\"showlegend\":true,\"textposition\":\"auto\",\"x\":[\"B00006CRTE\"],\"xaxis\":\"x\",\"y\":[\"Devil Knows You're Dead, The: A Matthew Scudder Crime Novel\"],\"yaxis\":\"y\",\"type\":\"bar\"},{\"alignmentgroup\":\"True\",\"hovertemplate\":\"Book-Title=%{y}<br>ISBN=%{x}<extra></extra>\",\"legendgroup\":\"The Lady in the Lake\",\"marker\":{\"color\":\"#00cc96\",\"pattern\":{\"shape\":\"\"}},\"name\":\"The Lady in the Lake\",\"offsetgroup\":\"The Lady in the Lake\",\"orientation\":\"h\",\"showlegend\":true,\"textposition\":\"auto\",\"x\":[\"B000069F44\"],\"xaxis\":\"x\",\"y\":[\"The Lady in the Lake\"],\"yaxis\":\"y\",\"type\":\"bar\"},{\"alignmentgroup\":\"True\",\"hovertemplate\":\"Book-Title=%{y}<br>ISBN=%{x}<extra></extra>\",\"legendgroup\":\"The Story of Aladdin and the Wonderful Lamp\",\"marker\":{\"color\":\"#ab63fa\",\"pattern\":{\"shape\":\"\"}},\"name\":\"The Story of Aladdin and the Wonderful Lamp\",\"offsetgroup\":\"The Story of Aladdin and the Wonderful Lamp\",\"orientation\":\"h\",\"showlegend\":true,\"textposition\":\"auto\",\"x\":[\"B0000633PU\"],\"xaxis\":\"x\",\"y\":[\"The Story of Aladdin and the Wonderful Lamp\"],\"yaxis\":\"y\",\"type\":\"bar\"},{\"alignmentgroup\":\"True\",\"hovertemplate\":\"Book-Title=%{y}<br>ISBN=%{x}<extra></extra>\",\"legendgroup\":\"Best a Man Can Get\",\"marker\":{\"color\":\"#FFA15A\",\"pattern\":{\"shape\":\"\"}},\"name\":\"Best a Man Can Get\",\"offsetgroup\":\"Best a Man Can Get\",\"orientation\":\"h\",\"showlegend\":true,\"textposition\":\"auto\",\"x\":[\"B00005UMK6\"],\"xaxis\":\"x\",\"y\":[\"Best a Man Can Get\"],\"yaxis\":\"y\",\"type\":\"bar\"}],                        {\"template\":{\"data\":{\"bar\":[{\"error_x\":{\"color\":\"#2a3f5f\"},\"error_y\":{\"color\":\"#2a3f5f\"},\"marker\":{\"line\":{\"color\":\"#E5ECF6\",\"width\":0.5},\"pattern\":{\"fillmode\":\"overlay\",\"size\":10,\"solidity\":0.2}},\"type\":\"bar\"}],\"barpolar\":[{\"marker\":{\"line\":{\"color\":\"#E5ECF6\",\"width\":0.5},\"pattern\":{\"fillmode\":\"overlay\",\"size\":10,\"solidity\":0.2}},\"type\":\"barpolar\"}],\"carpet\":[{\"aaxis\":{\"endlinecolor\":\"#2a3f5f\",\"gridcolor\":\"white\",\"linecolor\":\"white\",\"minorgridcolor\":\"white\",\"startlinecolor\":\"#2a3f5f\"},\"baxis\":{\"endlinecolor\":\"#2a3f5f\",\"gridcolor\":\"white\",\"linecolor\":\"white\",\"minorgridcolor\":\"white\",\"startlinecolor\":\"#2a3f5f\"},\"type\":\"carpet\"}],\"choropleth\":[{\"colorbar\":{\"outlinewidth\":0,\"ticks\":\"\"},\"type\":\"choropleth\"}],\"contour\":[{\"colorbar\":{\"outlinewidth\":0,\"ticks\":\"\"},\"colorscale\":[[0.0,\"#0d0887\"],[0.1111111111111111,\"#46039f\"],[0.2222222222222222,\"#7201a8\"],[0.3333333333333333,\"#9c179e\"],[0.4444444444444444,\"#bd3786\"],[0.5555555555555556,\"#d8576b\"],[0.6666666666666666,\"#ed7953\"],[0.7777777777777778,\"#fb9f3a\"],[0.8888888888888888,\"#fdca26\"],[1.0,\"#f0f921\"]],\"type\":\"contour\"}],\"contourcarpet\":[{\"colorbar\":{\"outlinewidth\":0,\"ticks\":\"\"},\"type\":\"contourcarpet\"}],\"heatmap\":[{\"colorbar\":{\"outlinewidth\":0,\"ticks\":\"\"},\"colorscale\":[[0.0,\"#0d0887\"],[0.1111111111111111,\"#46039f\"],[0.2222222222222222,\"#7201a8\"],[0.3333333333333333,\"#9c179e\"],[0.4444444444444444,\"#bd3786\"],[0.5555555555555556,\"#d8576b\"],[0.6666666666666666,\"#ed7953\"],[0.7777777777777778,\"#fb9f3a\"],[0.8888888888888888,\"#fdca26\"],[1.0,\"#f0f921\"]],\"type\":\"heatmap\"}],\"heatmapgl\":[{\"colorbar\":{\"outlinewidth\":0,\"ticks\":\"\"},\"colorscale\":[[0.0,\"#0d0887\"],[0.1111111111111111,\"#46039f\"],[0.2222222222222222,\"#7201a8\"],[0.3333333333333333,\"#9c179e\"],[0.4444444444444444,\"#bd3786\"],[0.5555555555555556,\"#d8576b\"],[0.6666666666666666,\"#ed7953\"],[0.7777777777777778,\"#fb9f3a\"],[0.8888888888888888,\"#fdca26\"],[1.0,\"#f0f921\"]],\"type\":\"heatmapgl\"}],\"histogram\":[{\"marker\":{\"pattern\":{\"fillmode\":\"overlay\",\"size\":10,\"solidity\":0.2}},\"type\":\"histogram\"}],\"histogram2d\":[{\"colorbar\":{\"outlinewidth\":0,\"ticks\":\"\"},\"colorscale\":[[0.0,\"#0d0887\"],[0.1111111111111111,\"#46039f\"],[0.2222222222222222,\"#7201a8\"],[0.3333333333333333,\"#9c179e\"],[0.4444444444444444,\"#bd3786\"],[0.5555555555555556,\"#d8576b\"],[0.6666666666666666,\"#ed7953\"],[0.7777777777777778,\"#fb9f3a\"],[0.8888888888888888,\"#fdca26\"],[1.0,\"#f0f921\"]],\"type\":\"histogram2d\"}],\"histogram2dcontour\":[{\"colorbar\":{\"outlinewidth\":0,\"ticks\":\"\"},\"colorscale\":[[0.0,\"#0d0887\"],[0.1111111111111111,\"#46039f\"],[0.2222222222222222,\"#7201a8\"],[0.3333333333333333,\"#9c179e\"],[0.4444444444444444,\"#bd3786\"],[0.5555555555555556,\"#d8576b\"],[0.6666666666666666,\"#ed7953\"],[0.7777777777777778,\"#fb9f3a\"],[0.8888888888888888,\"#fdca26\"],[1.0,\"#f0f921\"]],\"type\":\"histogram2dcontour\"}],\"mesh3d\":[{\"colorbar\":{\"outlinewidth\":0,\"ticks\":\"\"},\"type\":\"mesh3d\"}],\"parcoords\":[{\"line\":{\"colorbar\":{\"outlinewidth\":0,\"ticks\":\"\"}},\"type\":\"parcoords\"}],\"pie\":[{\"automargin\":true,\"type\":\"pie\"}],\"scatter\":[{\"marker\":{\"colorbar\":{\"outlinewidth\":0,\"ticks\":\"\"}},\"type\":\"scatter\"}],\"scatter3d\":[{\"line\":{\"colorbar\":{\"outlinewidth\":0,\"ticks\":\"\"}},\"marker\":{\"colorbar\":{\"outlinewidth\":0,\"ticks\":\"\"}},\"type\":\"scatter3d\"}],\"scattercarpet\":[{\"marker\":{\"colorbar\":{\"outlinewidth\":0,\"ticks\":\"\"}},\"type\":\"scattercarpet\"}],\"scattergeo\":[{\"marker\":{\"colorbar\":{\"outlinewidth\":0,\"ticks\":\"\"}},\"type\":\"scattergeo\"}],\"scattergl\":[{\"marker\":{\"colorbar\":{\"outlinewidth\":0,\"ticks\":\"\"}},\"type\":\"scattergl\"}],\"scattermapbox\":[{\"marker\":{\"colorbar\":{\"outlinewidth\":0,\"ticks\":\"\"}},\"type\":\"scattermapbox\"}],\"scatterpolar\":[{\"marker\":{\"colorbar\":{\"outlinewidth\":0,\"ticks\":\"\"}},\"type\":\"scatterpolar\"}],\"scatterpolargl\":[{\"marker\":{\"colorbar\":{\"outlinewidth\":0,\"ticks\":\"\"}},\"type\":\"scatterpolargl\"}],\"scatterternary\":[{\"marker\":{\"colorbar\":{\"outlinewidth\":0,\"ticks\":\"\"}},\"type\":\"scatterternary\"}],\"surface\":[{\"colorbar\":{\"outlinewidth\":0,\"ticks\":\"\"},\"colorscale\":[[0.0,\"#0d0887\"],[0.1111111111111111,\"#46039f\"],[0.2222222222222222,\"#7201a8\"],[0.3333333333333333,\"#9c179e\"],[0.4444444444444444,\"#bd3786\"],[0.5555555555555556,\"#d8576b\"],[0.6666666666666666,\"#ed7953\"],[0.7777777777777778,\"#fb9f3a\"],[0.8888888888888888,\"#fdca26\"],[1.0,\"#f0f921\"]],\"type\":\"surface\"}],\"table\":[{\"cells\":{\"fill\":{\"color\":\"#EBF0F8\"},\"line\":{\"color\":\"white\"}},\"header\":{\"fill\":{\"color\":\"#C8D4E3\"},\"line\":{\"color\":\"white\"}},\"type\":\"table\"}]},\"layout\":{\"annotationdefaults\":{\"arrowcolor\":\"#2a3f5f\",\"arrowhead\":0,\"arrowwidth\":1},\"autotypenumbers\":\"strict\",\"coloraxis\":{\"colorbar\":{\"outlinewidth\":0,\"ticks\":\"\"}},\"colorscale\":{\"diverging\":[[0,\"#8e0152\"],[0.1,\"#c51b7d\"],[0.2,\"#de77ae\"],[0.3,\"#f1b6da\"],[0.4,\"#fde0ef\"],[0.5,\"#f7f7f7\"],[0.6,\"#e6f5d0\"],[0.7,\"#b8e186\"],[0.8,\"#7fbc41\"],[0.9,\"#4d9221\"],[1,\"#276419\"]],\"sequential\":[[0.0,\"#0d0887\"],[0.1111111111111111,\"#46039f\"],[0.2222222222222222,\"#7201a8\"],[0.3333333333333333,\"#9c179e\"],[0.4444444444444444,\"#bd3786\"],[0.5555555555555556,\"#d8576b\"],[0.6666666666666666,\"#ed7953\"],[0.7777777777777778,\"#fb9f3a\"],[0.8888888888888888,\"#fdca26\"],[1.0,\"#f0f921\"]],\"sequentialminus\":[[0.0,\"#0d0887\"],[0.1111111111111111,\"#46039f\"],[0.2222222222222222,\"#7201a8\"],[0.3333333333333333,\"#9c179e\"],[0.4444444444444444,\"#bd3786\"],[0.5555555555555556,\"#d8576b\"],[0.6666666666666666,\"#ed7953\"],[0.7777777777777778,\"#fb9f3a\"],[0.8888888888888888,\"#fdca26\"],[1.0,\"#f0f921\"]]},\"colorway\":[\"#636efa\",\"#EF553B\",\"#00cc96\",\"#ab63fa\",\"#FFA15A\",\"#19d3f3\",\"#FF6692\",\"#B6E880\",\"#FF97FF\",\"#FECB52\"],\"font\":{\"color\":\"#2a3f5f\"},\"geo\":{\"bgcolor\":\"white\",\"lakecolor\":\"white\",\"landcolor\":\"#E5ECF6\",\"showlakes\":true,\"showland\":true,\"subunitcolor\":\"white\"},\"hoverlabel\":{\"align\":\"left\"},\"hovermode\":\"closest\",\"mapbox\":{\"style\":\"light\"},\"paper_bgcolor\":\"white\",\"plot_bgcolor\":\"#E5ECF6\",\"polar\":{\"angularaxis\":{\"gridcolor\":\"white\",\"linecolor\":\"white\",\"ticks\":\"\"},\"bgcolor\":\"#E5ECF6\",\"radialaxis\":{\"gridcolor\":\"white\",\"linecolor\":\"white\",\"ticks\":\"\"}},\"scene\":{\"xaxis\":{\"backgroundcolor\":\"#E5ECF6\",\"gridcolor\":\"white\",\"gridwidth\":2,\"linecolor\":\"white\",\"showbackground\":true,\"ticks\":\"\",\"zerolinecolor\":\"white\"},\"yaxis\":{\"backgroundcolor\":\"#E5ECF6\",\"gridcolor\":\"white\",\"gridwidth\":2,\"linecolor\":\"white\",\"showbackground\":true,\"ticks\":\"\",\"zerolinecolor\":\"white\"},\"zaxis\":{\"backgroundcolor\":\"#E5ECF6\",\"gridcolor\":\"white\",\"gridwidth\":2,\"linecolor\":\"white\",\"showbackground\":true,\"ticks\":\"\",\"zerolinecolor\":\"white\"}},\"shapedefaults\":{\"line\":{\"color\":\"#2a3f5f\"}},\"ternary\":{\"aaxis\":{\"gridcolor\":\"white\",\"linecolor\":\"white\",\"ticks\":\"\"},\"baxis\":{\"gridcolor\":\"white\",\"linecolor\":\"white\",\"ticks\":\"\"},\"bgcolor\":\"#E5ECF6\",\"caxis\":{\"gridcolor\":\"white\",\"linecolor\":\"white\",\"ticks\":\"\"}},\"title\":{\"x\":0.05},\"xaxis\":{\"automargin\":true,\"gridcolor\":\"white\",\"linecolor\":\"white\",\"ticks\":\"\",\"title\":{\"standoff\":15},\"zerolinecolor\":\"white\",\"zerolinewidth\":2},\"yaxis\":{\"automargin\":true,\"gridcolor\":\"white\",\"linecolor\":\"white\",\"ticks\":\"\",\"title\":{\"standoff\":15},\"zerolinecolor\":\"white\",\"zerolinewidth\":2}}},\"xaxis\":{\"anchor\":\"y\",\"domain\":[0.0,1.0],\"title\":{\"text\":\"ISBN\"}},\"yaxis\":{\"anchor\":\"x\",\"domain\":[0.0,1.0],\"title\":{\"text\":\"Book-Title\"},\"categoryorder\":\"array\",\"categoryarray\":[\"Best a Man Can Get\",\"The Story of Aladdin and the Wonderful Lamp\",\"The Lady in the Lake\",\"Devil Knows You're Dead, The: A Matthew Scudder Crime Novel\",\"Bloodcurdling Tales of Horror and the Macabre: The Best of H. P. Lovecraft\",\"The Green Ray\",\"More, Now, Again: A Memoir of Addiction\",\"Mystic Rose, The\",\"Keeping Watch\",\"Cane River\",\"Moby Dick\",\"Hannibal\",\"Winter Solstice\",\"Atonement\",\"Carmilla\",\"Fatal Voyage : A Novel\",\"Hard Eight\",\"Discover Your Genius: How to Think Like History's Ten Most Revolutionary Minds\",\"Without Pity: Ann Rule's Most Dangerous Killers\",\"The Wonderful Wizard of Oz\",\"I'll Let You Go: A Novel\",\"The Taming\",\"Find Me\",\"Fahrenheit 451\",\"Falling Angels\"]},\"legend\":{\"title\":{\"text\":\"Book-Title\"},\"tracegroupgap\":0},\"title\":{\"text\":\"Buku Berperingkat Teratas dan Peringkatnya\"},\"barmode\":\"relative\",\"height\":700,\"width\":1500},                        {\"responsive\": true}                    ).then(function(){\n",
              "                            \n",
              "var gd = document.getElementById('96adbd69-38c0-476d-89d7-698e5d165622');\n",
              "var x = new MutationObserver(function (mutations, observer) {{\n",
              "        var display = window.getComputedStyle(gd).display;\n",
              "        if (!display || display === 'none') {{\n",
              "            console.log([gd, 'removed!']);\n",
              "            Plotly.purge(gd);\n",
              "            observer.disconnect();\n",
              "        }}\n",
              "}});\n",
              "\n",
              "// Listen for the removal of the full notebook cells\n",
              "var notebookContainer = gd.closest('#notebook-container');\n",
              "if (notebookContainer) {{\n",
              "    x.observe(notebookContainer, {childList: true});\n",
              "}}\n",
              "\n",
              "// Listen for the clearing of the current output cell\n",
              "var outputEl = gd.closest('.output');\n",
              "if (outputEl) {{\n",
              "    x.observe(outputEl, {childList: true});\n",
              "}}\n",
              "\n",
              "                        })                };                            </script>        </div>\n",
              "</body>\n",
              "</html>"
            ]
          },
          "metadata": {}
        }
      ]
    },
    {
      "cell_type": "code",
      "source": [
        "# Rating Buku Teratas\n",
        "fig = px.treemap(tf_top_rated, path=['Book-Title'], values='Year-Of-Publication',title='Buku Berperingkat Teratas', width=1000, height=700)\n",
        "fig.show()"
      ],
      "metadata": {
        "colab": {
          "base_uri": "https://localhost:8080/",
          "height": 717
        },
        "id": "X4ICsww0aCmx",
        "outputId": "4cc44985-aaaa-4ebf-80bc-b4035b8a37a1"
      },
      "execution_count": 36,
      "outputs": [
        {
          "output_type": "display_data",
          "data": {
            "text/html": [
              "<html>\n",
              "<head><meta charset=\"utf-8\" /></head>\n",
              "<body>\n",
              "    <div>            <script src=\"https://cdnjs.cloudflare.com/ajax/libs/mathjax/2.7.5/MathJax.js?config=TeX-AMS-MML_SVG\"></script><script type=\"text/javascript\">if (window.MathJax) {MathJax.Hub.Config({SVG: {font: \"STIX-Web\"}});}</script>                <script type=\"text/javascript\">window.PlotlyConfig = {MathJaxConfig: 'local'};</script>\n",
              "        <script src=\"https://cdn.plot.ly/plotly-2.8.3.min.js\"></script>                <div id=\"5eef1b25-5c7a-49c8-baef-c724d4f5ff38\" class=\"plotly-graph-div\" style=\"height:700px; width:1000px;\"></div>            <script type=\"text/javascript\">                                    window.PLOTLYENV=window.PLOTLYENV || {};                                    if (document.getElementById(\"5eef1b25-5c7a-49c8-baef-c724d4f5ff38\")) {                    Plotly.newPlot(                        \"5eef1b25-5c7a-49c8-baef-c724d4f5ff38\",                        [{\"branchvalues\":\"total\",\"domain\":{\"x\":[0.0,1.0],\"y\":[0.0,1.0]},\"hovertemplate\":\"labels=%{label}<br>Year-Of-Publication=%{value}<br>parent=%{parent}<br>id=%{id}<extra></extra>\",\"ids\":[\"Atonement\",\"Best a Man Can Get\",\"Bloodcurdling Tales of Horror and the Macabre: The Best of H. P. Lovecraft\",\"Cane River\",\"Carmilla\",\"Devil Knows You're Dead, The: A Matthew Scudder Crime Novel\",\"Discover Your Genius: How to Think Like History's Ten Most Revolutionary Minds\",\"Fahrenheit 451\",\"Falling Angels\",\"Fatal Voyage : A Novel\",\"Find Me\",\"Hannibal\",\"Hard Eight\",\"I'll Let You Go: A Novel\",\"Keeping Watch\",\"Moby Dick\",\"More, Now, Again: A Memoir of Addiction\",\"Mystic Rose, The\",\"The Green Ray\",\"The Lady in the Lake\",\"The Story of Aladdin and the Wonderful Lamp\",\"The Taming\",\"The Wonderful Wizard of Oz\",\"Winter Solstice\",\"Without Pity: Ann Rule's Most Dangerous Killers\"],\"labels\":[\"Atonement\",\"Best a Man Can Get\",\"Bloodcurdling Tales of Horror and the Macabre: The Best of H. P. Lovecraft\",\"Cane River\",\"Carmilla\",\"Devil Knows You're Dead, The: A Matthew Scudder Crime Novel\",\"Discover Your Genius: How to Think Like History's Ten Most Revolutionary Minds\",\"Fahrenheit 451\",\"Falling Angels\",\"Fatal Voyage : A Novel\",\"Find Me\",\"Hannibal\",\"Hard Eight\",\"I'll Let You Go: A Novel\",\"Keeping Watch\",\"Moby Dick\",\"More, Now, Again: A Memoir of Addiction\",\"Mystic Rose, The\",\"The Green Ray\",\"The Lady in the Lake\",\"The Story of Aladdin and the Wonderful Lamp\",\"The Taming\",\"The Wonderful Wizard of Oz\",\"Winter Solstice\",\"Without Pity: Ann Rule's Most Dangerous Killers\"],\"name\":\"\",\"parents\":[\"\",\"\",\"\",\"\",\"\",\"\",\"\",\"\",\"\",\"\",\"\",\"\",\"\",\"\",\"\",\"\",\"\",\"\",\"\",\"\",\"\",\"\",\"\",\"\",\"\"],\"values\":[0,0,0,2001,0,0,2002,1993,2001,2001,2002,1999,2002,2002,0,0,2001,2001,0,0,0,0,0,2000,0],\"type\":\"treemap\"}],                        {\"template\":{\"data\":{\"bar\":[{\"error_x\":{\"color\":\"#2a3f5f\"},\"error_y\":{\"color\":\"#2a3f5f\"},\"marker\":{\"line\":{\"color\":\"#E5ECF6\",\"width\":0.5},\"pattern\":{\"fillmode\":\"overlay\",\"size\":10,\"solidity\":0.2}},\"type\":\"bar\"}],\"barpolar\":[{\"marker\":{\"line\":{\"color\":\"#E5ECF6\",\"width\":0.5},\"pattern\":{\"fillmode\":\"overlay\",\"size\":10,\"solidity\":0.2}},\"type\":\"barpolar\"}],\"carpet\":[{\"aaxis\":{\"endlinecolor\":\"#2a3f5f\",\"gridcolor\":\"white\",\"linecolor\":\"white\",\"minorgridcolor\":\"white\",\"startlinecolor\":\"#2a3f5f\"},\"baxis\":{\"endlinecolor\":\"#2a3f5f\",\"gridcolor\":\"white\",\"linecolor\":\"white\",\"minorgridcolor\":\"white\",\"startlinecolor\":\"#2a3f5f\"},\"type\":\"carpet\"}],\"choropleth\":[{\"colorbar\":{\"outlinewidth\":0,\"ticks\":\"\"},\"type\":\"choropleth\"}],\"contour\":[{\"colorbar\":{\"outlinewidth\":0,\"ticks\":\"\"},\"colorscale\":[[0.0,\"#0d0887\"],[0.1111111111111111,\"#46039f\"],[0.2222222222222222,\"#7201a8\"],[0.3333333333333333,\"#9c179e\"],[0.4444444444444444,\"#bd3786\"],[0.5555555555555556,\"#d8576b\"],[0.6666666666666666,\"#ed7953\"],[0.7777777777777778,\"#fb9f3a\"],[0.8888888888888888,\"#fdca26\"],[1.0,\"#f0f921\"]],\"type\":\"contour\"}],\"contourcarpet\":[{\"colorbar\":{\"outlinewidth\":0,\"ticks\":\"\"},\"type\":\"contourcarpet\"}],\"heatmap\":[{\"colorbar\":{\"outlinewidth\":0,\"ticks\":\"\"},\"colorscale\":[[0.0,\"#0d0887\"],[0.1111111111111111,\"#46039f\"],[0.2222222222222222,\"#7201a8\"],[0.3333333333333333,\"#9c179e\"],[0.4444444444444444,\"#bd3786\"],[0.5555555555555556,\"#d8576b\"],[0.6666666666666666,\"#ed7953\"],[0.7777777777777778,\"#fb9f3a\"],[0.8888888888888888,\"#fdca26\"],[1.0,\"#f0f921\"]],\"type\":\"heatmap\"}],\"heatmapgl\":[{\"colorbar\":{\"outlinewidth\":0,\"ticks\":\"\"},\"colorscale\":[[0.0,\"#0d0887\"],[0.1111111111111111,\"#46039f\"],[0.2222222222222222,\"#7201a8\"],[0.3333333333333333,\"#9c179e\"],[0.4444444444444444,\"#bd3786\"],[0.5555555555555556,\"#d8576b\"],[0.6666666666666666,\"#ed7953\"],[0.7777777777777778,\"#fb9f3a\"],[0.8888888888888888,\"#fdca26\"],[1.0,\"#f0f921\"]],\"type\":\"heatmapgl\"}],\"histogram\":[{\"marker\":{\"pattern\":{\"fillmode\":\"overlay\",\"size\":10,\"solidity\":0.2}},\"type\":\"histogram\"}],\"histogram2d\":[{\"colorbar\":{\"outlinewidth\":0,\"ticks\":\"\"},\"colorscale\":[[0.0,\"#0d0887\"],[0.1111111111111111,\"#46039f\"],[0.2222222222222222,\"#7201a8\"],[0.3333333333333333,\"#9c179e\"],[0.4444444444444444,\"#bd3786\"],[0.5555555555555556,\"#d8576b\"],[0.6666666666666666,\"#ed7953\"],[0.7777777777777778,\"#fb9f3a\"],[0.8888888888888888,\"#fdca26\"],[1.0,\"#f0f921\"]],\"type\":\"histogram2d\"}],\"histogram2dcontour\":[{\"colorbar\":{\"outlinewidth\":0,\"ticks\":\"\"},\"colorscale\":[[0.0,\"#0d0887\"],[0.1111111111111111,\"#46039f\"],[0.2222222222222222,\"#7201a8\"],[0.3333333333333333,\"#9c179e\"],[0.4444444444444444,\"#bd3786\"],[0.5555555555555556,\"#d8576b\"],[0.6666666666666666,\"#ed7953\"],[0.7777777777777778,\"#fb9f3a\"],[0.8888888888888888,\"#fdca26\"],[1.0,\"#f0f921\"]],\"type\":\"histogram2dcontour\"}],\"mesh3d\":[{\"colorbar\":{\"outlinewidth\":0,\"ticks\":\"\"},\"type\":\"mesh3d\"}],\"parcoords\":[{\"line\":{\"colorbar\":{\"outlinewidth\":0,\"ticks\":\"\"}},\"type\":\"parcoords\"}],\"pie\":[{\"automargin\":true,\"type\":\"pie\"}],\"scatter\":[{\"marker\":{\"colorbar\":{\"outlinewidth\":0,\"ticks\":\"\"}},\"type\":\"scatter\"}],\"scatter3d\":[{\"line\":{\"colorbar\":{\"outlinewidth\":0,\"ticks\":\"\"}},\"marker\":{\"colorbar\":{\"outlinewidth\":0,\"ticks\":\"\"}},\"type\":\"scatter3d\"}],\"scattercarpet\":[{\"marker\":{\"colorbar\":{\"outlinewidth\":0,\"ticks\":\"\"}},\"type\":\"scattercarpet\"}],\"scattergeo\":[{\"marker\":{\"colorbar\":{\"outlinewidth\":0,\"ticks\":\"\"}},\"type\":\"scattergeo\"}],\"scattergl\":[{\"marker\":{\"colorbar\":{\"outlinewidth\":0,\"ticks\":\"\"}},\"type\":\"scattergl\"}],\"scattermapbox\":[{\"marker\":{\"colorbar\":{\"outlinewidth\":0,\"ticks\":\"\"}},\"type\":\"scattermapbox\"}],\"scatterpolar\":[{\"marker\":{\"colorbar\":{\"outlinewidth\":0,\"ticks\":\"\"}},\"type\":\"scatterpolar\"}],\"scatterpolargl\":[{\"marker\":{\"colorbar\":{\"outlinewidth\":0,\"ticks\":\"\"}},\"type\":\"scatterpolargl\"}],\"scatterternary\":[{\"marker\":{\"colorbar\":{\"outlinewidth\":0,\"ticks\":\"\"}},\"type\":\"scatterternary\"}],\"surface\":[{\"colorbar\":{\"outlinewidth\":0,\"ticks\":\"\"},\"colorscale\":[[0.0,\"#0d0887\"],[0.1111111111111111,\"#46039f\"],[0.2222222222222222,\"#7201a8\"],[0.3333333333333333,\"#9c179e\"],[0.4444444444444444,\"#bd3786\"],[0.5555555555555556,\"#d8576b\"],[0.6666666666666666,\"#ed7953\"],[0.7777777777777778,\"#fb9f3a\"],[0.8888888888888888,\"#fdca26\"],[1.0,\"#f0f921\"]],\"type\":\"surface\"}],\"table\":[{\"cells\":{\"fill\":{\"color\":\"#EBF0F8\"},\"line\":{\"color\":\"white\"}},\"header\":{\"fill\":{\"color\":\"#C8D4E3\"},\"line\":{\"color\":\"white\"}},\"type\":\"table\"}]},\"layout\":{\"annotationdefaults\":{\"arrowcolor\":\"#2a3f5f\",\"arrowhead\":0,\"arrowwidth\":1},\"autotypenumbers\":\"strict\",\"coloraxis\":{\"colorbar\":{\"outlinewidth\":0,\"ticks\":\"\"}},\"colorscale\":{\"diverging\":[[0,\"#8e0152\"],[0.1,\"#c51b7d\"],[0.2,\"#de77ae\"],[0.3,\"#f1b6da\"],[0.4,\"#fde0ef\"],[0.5,\"#f7f7f7\"],[0.6,\"#e6f5d0\"],[0.7,\"#b8e186\"],[0.8,\"#7fbc41\"],[0.9,\"#4d9221\"],[1,\"#276419\"]],\"sequential\":[[0.0,\"#0d0887\"],[0.1111111111111111,\"#46039f\"],[0.2222222222222222,\"#7201a8\"],[0.3333333333333333,\"#9c179e\"],[0.4444444444444444,\"#bd3786\"],[0.5555555555555556,\"#d8576b\"],[0.6666666666666666,\"#ed7953\"],[0.7777777777777778,\"#fb9f3a\"],[0.8888888888888888,\"#fdca26\"],[1.0,\"#f0f921\"]],\"sequentialminus\":[[0.0,\"#0d0887\"],[0.1111111111111111,\"#46039f\"],[0.2222222222222222,\"#7201a8\"],[0.3333333333333333,\"#9c179e\"],[0.4444444444444444,\"#bd3786\"],[0.5555555555555556,\"#d8576b\"],[0.6666666666666666,\"#ed7953\"],[0.7777777777777778,\"#fb9f3a\"],[0.8888888888888888,\"#fdca26\"],[1.0,\"#f0f921\"]]},\"colorway\":[\"#636efa\",\"#EF553B\",\"#00cc96\",\"#ab63fa\",\"#FFA15A\",\"#19d3f3\",\"#FF6692\",\"#B6E880\",\"#FF97FF\",\"#FECB52\"],\"font\":{\"color\":\"#2a3f5f\"},\"geo\":{\"bgcolor\":\"white\",\"lakecolor\":\"white\",\"landcolor\":\"#E5ECF6\",\"showlakes\":true,\"showland\":true,\"subunitcolor\":\"white\"},\"hoverlabel\":{\"align\":\"left\"},\"hovermode\":\"closest\",\"mapbox\":{\"style\":\"light\"},\"paper_bgcolor\":\"white\",\"plot_bgcolor\":\"#E5ECF6\",\"polar\":{\"angularaxis\":{\"gridcolor\":\"white\",\"linecolor\":\"white\",\"ticks\":\"\"},\"bgcolor\":\"#E5ECF6\",\"radialaxis\":{\"gridcolor\":\"white\",\"linecolor\":\"white\",\"ticks\":\"\"}},\"scene\":{\"xaxis\":{\"backgroundcolor\":\"#E5ECF6\",\"gridcolor\":\"white\",\"gridwidth\":2,\"linecolor\":\"white\",\"showbackground\":true,\"ticks\":\"\",\"zerolinecolor\":\"white\"},\"yaxis\":{\"backgroundcolor\":\"#E5ECF6\",\"gridcolor\":\"white\",\"gridwidth\":2,\"linecolor\":\"white\",\"showbackground\":true,\"ticks\":\"\",\"zerolinecolor\":\"white\"},\"zaxis\":{\"backgroundcolor\":\"#E5ECF6\",\"gridcolor\":\"white\",\"gridwidth\":2,\"linecolor\":\"white\",\"showbackground\":true,\"ticks\":\"\",\"zerolinecolor\":\"white\"}},\"shapedefaults\":{\"line\":{\"color\":\"#2a3f5f\"}},\"ternary\":{\"aaxis\":{\"gridcolor\":\"white\",\"linecolor\":\"white\",\"ticks\":\"\"},\"baxis\":{\"gridcolor\":\"white\",\"linecolor\":\"white\",\"ticks\":\"\"},\"bgcolor\":\"#E5ECF6\",\"caxis\":{\"gridcolor\":\"white\",\"linecolor\":\"white\",\"ticks\":\"\"}},\"title\":{\"x\":0.05},\"xaxis\":{\"automargin\":true,\"gridcolor\":\"white\",\"linecolor\":\"white\",\"ticks\":\"\",\"title\":{\"standoff\":15},\"zerolinecolor\":\"white\",\"zerolinewidth\":2},\"yaxis\":{\"automargin\":true,\"gridcolor\":\"white\",\"linecolor\":\"white\",\"ticks\":\"\",\"title\":{\"standoff\":15},\"zerolinecolor\":\"white\",\"zerolinewidth\":2}}},\"legend\":{\"tracegroupgap\":0},\"title\":{\"text\":\"Buku Berperingkat Teratas\"},\"height\":700,\"width\":1000},                        {\"responsive\": true}                    ).then(function(){\n",
              "                            \n",
              "var gd = document.getElementById('5eef1b25-5c7a-49c8-baef-c724d4f5ff38');\n",
              "var x = new MutationObserver(function (mutations, observer) {{\n",
              "        var display = window.getComputedStyle(gd).display;\n",
              "        if (!display || display === 'none') {{\n",
              "            console.log([gd, 'removed!']);\n",
              "            Plotly.purge(gd);\n",
              "            observer.disconnect();\n",
              "        }}\n",
              "}});\n",
              "\n",
              "// Listen for the removal of the full notebook cells\n",
              "var notebookContainer = gd.closest('#notebook-container');\n",
              "if (notebookContainer) {{\n",
              "    x.observe(notebookContainer, {childList: true});\n",
              "}}\n",
              "\n",
              "// Listen for the clearing of the current output cell\n",
              "var outputEl = gd.closest('.output');\n",
              "if (outputEl) {{\n",
              "    x.observe(outputEl, {childList: true});\n",
              "}}\n",
              "\n",
              "                        })                };                            </script>        </div>\n",
              "</body>\n",
              "</html>"
            ]
          },
          "metadata": {}
        }
      ]
    },
    {
      "cell_type": "code",
      "source": [
        "# Top Author\n",
        "top_author_counts = book['Book-Author'].value_counts().reset_index()\n",
        "top_author_counts.columns = ['value', 'count']\n",
        "top_author_counts['value'] = top_author_counts['value']\n",
        "top_author_counts = top_author_counts.sort_values('count')\n",
        "fig = px.bar(top_author_counts.tail(50), \n",
        "             x=\"count\", \n",
        "             y=\"value\", \n",
        "             title='Top Authors', \n",
        "             orientation='h', \n",
        "             color='value',\n",
        "             width=1000, height=700)\n",
        "fig.show()"
      ],
      "metadata": {
        "colab": {
          "base_uri": "https://localhost:8080/",
          "height": 717
        },
        "id": "qX7vUhFdaHZZ",
        "outputId": "aa47def6-172b-4cc9-f7b9-183b35e87c83"
      },
      "execution_count": 37,
      "outputs": [
        {
          "output_type": "display_data",
          "data": {
            "text/html": [
              "<html>\n",
              "<head><meta charset=\"utf-8\" /></head>\n",
              "<body>\n",
              "    <div>            <script src=\"https://cdnjs.cloudflare.com/ajax/libs/mathjax/2.7.5/MathJax.js?config=TeX-AMS-MML_SVG\"></script><script type=\"text/javascript\">if (window.MathJax) {MathJax.Hub.Config({SVG: {font: \"STIX-Web\"}});}</script>                <script type=\"text/javascript\">window.PlotlyConfig = {MathJaxConfig: 'local'};</script>\n",
              "        <script src=\"https://cdn.plot.ly/plotly-2.8.3.min.js\"></script>                <div id=\"3325181f-cc45-4e10-8092-6f43c017ab38\" class=\"plotly-graph-div\" style=\"height:700px; width:1000px;\"></div>            <script type=\"text/javascript\">                                    window.PLOTLYENV=window.PLOTLYENV || {};                                    if (document.getElementById(\"3325181f-cc45-4e10-8092-6f43c017ab38\")) {                    Plotly.newPlot(                        \"3325181f-cc45-4e10-8092-6f43c017ab38\",                        [{\"alignmentgroup\":\"True\",\"hovertemplate\":\"value=%{y}<br>count=%{x}<extra></extra>\",\"legendgroup\":\"Robin Cook\",\"marker\":{\"color\":\"#636efa\",\"pattern\":{\"shape\":\"\"}},\"name\":\"Robin Cook\",\"offsetgroup\":\"Robin Cook\",\"orientation\":\"h\",\"showlegend\":true,\"textposition\":\"auto\",\"x\":[69],\"xaxis\":\"x\",\"y\":[\"Robin Cook\"],\"yaxis\":\"y\",\"type\":\"bar\"},{\"alignmentgroup\":\"True\",\"hovertemplate\":\"value=%{y}<br>count=%{x}<extra></extra>\",\"legendgroup\":\"Margaret Weis\",\"marker\":{\"color\":\"#EF553B\",\"pattern\":{\"shape\":\"\"}},\"name\":\"Margaret Weis\",\"offsetgroup\":\"Margaret Weis\",\"orientation\":\"h\",\"showlegend\":true,\"textposition\":\"auto\",\"x\":[69],\"xaxis\":\"x\",\"y\":[\"Margaret Weis\"],\"yaxis\":\"y\",\"type\":\"bar\"},{\"alignmentgroup\":\"True\",\"hovertemplate\":\"value=%{y}<br>count=%{x}<extra></extra>\",\"legendgroup\":\"Debbie Macomber\",\"marker\":{\"color\":\"#00cc96\",\"pattern\":{\"shape\":\"\"}},\"name\":\"Debbie Macomber\",\"offsetgroup\":\"Debbie Macomber\",\"orientation\":\"h\",\"showlegend\":true,\"textposition\":\"auto\",\"x\":[69],\"xaxis\":\"x\",\"y\":[\"Debbie Macomber\"],\"yaxis\":\"y\",\"type\":\"bar\"},{\"alignmentgroup\":\"True\",\"hovertemplate\":\"value=%{y}<br>count=%{x}<extra></extra>\",\"legendgroup\":\"Douglas Adams\",\"marker\":{\"color\":\"#ab63fa\",\"pattern\":{\"shape\":\"\"}},\"name\":\"Douglas Adams\",\"offsetgroup\":\"Douglas Adams\",\"orientation\":\"h\",\"showlegend\":true,\"textposition\":\"auto\",\"x\":[70],\"xaxis\":\"x\",\"y\":[\"Douglas Adams\"],\"yaxis\":\"y\",\"type\":\"bar\"},{\"alignmentgroup\":\"True\",\"hovertemplate\":\"value=%{y}<br>count=%{x}<extra></extra>\",\"legendgroup\":\"Beverly Cleary\",\"marker\":{\"color\":\"#FFA15A\",\"pattern\":{\"shape\":\"\"}},\"name\":\"Beverly Cleary\",\"offsetgroup\":\"Beverly Cleary\",\"orientation\":\"h\",\"showlegend\":true,\"textposition\":\"auto\",\"x\":[70],\"xaxis\":\"x\",\"y\":[\"Beverly Cleary\"],\"yaxis\":\"y\",\"type\":\"bar\"},{\"alignmentgroup\":\"True\",\"hovertemplate\":\"value=%{y}<br>count=%{x}<extra></extra>\",\"legendgroup\":\"Diana Palmer\",\"marker\":{\"color\":\"#19d3f3\",\"pattern\":{\"shape\":\"\"}},\"name\":\"Diana Palmer\",\"offsetgroup\":\"Diana Palmer\",\"orientation\":\"h\",\"showlegend\":true,\"textposition\":\"auto\",\"x\":[71],\"xaxis\":\"x\",\"y\":[\"Diana Palmer\"],\"yaxis\":\"y\",\"type\":\"bar\"},{\"alignmentgroup\":\"True\",\"hovertemplate\":\"value=%{y}<br>count=%{x}<extra></extra>\",\"legendgroup\":\"Mercedes Lackey\",\"marker\":{\"color\":\"#FF6692\",\"pattern\":{\"shape\":\"\"}},\"name\":\"Mercedes Lackey\",\"offsetgroup\":\"Mercedes Lackey\",\"orientation\":\"h\",\"showlegend\":true,\"textposition\":\"auto\",\"x\":[71],\"xaxis\":\"x\",\"y\":[\"Mercedes Lackey\"],\"yaxis\":\"y\",\"type\":\"bar\"},{\"alignmentgroup\":\"True\",\"hovertemplate\":\"value=%{y}<br>count=%{x}<extra></extra>\",\"legendgroup\":\"Linda Howard\",\"marker\":{\"color\":\"#B6E880\",\"pattern\":{\"shape\":\"\"}},\"name\":\"Linda Howard\",\"offsetgroup\":\"Linda Howard\",\"orientation\":\"h\",\"showlegend\":true,\"textposition\":\"auto\",\"x\":[72],\"xaxis\":\"x\",\"y\":[\"Linda Howard\"],\"yaxis\":\"y\",\"type\":\"bar\"},{\"alignmentgroup\":\"True\",\"hovertemplate\":\"value=%{y}<br>count=%{x}<extra></extra>\",\"legendgroup\":\"Clive Cussler\",\"marker\":{\"color\":\"#FF97FF\",\"pattern\":{\"shape\":\"\"}},\"name\":\"Clive Cussler\",\"offsetgroup\":\"Clive Cussler\",\"orientation\":\"h\",\"showlegend\":true,\"textposition\":\"auto\",\"x\":[72],\"xaxis\":\"x\",\"y\":[\"Clive Cussler\"],\"yaxis\":\"y\",\"type\":\"bar\"},{\"alignmentgroup\":\"True\",\"hovertemplate\":\"value=%{y}<br>count=%{x}<extra></extra>\",\"legendgroup\":\"Ray Bradbury\",\"marker\":{\"color\":\"#FECB52\",\"pattern\":{\"shape\":\"\"}},\"name\":\"Ray Bradbury\",\"offsetgroup\":\"Ray Bradbury\",\"orientation\":\"h\",\"showlegend\":true,\"textposition\":\"auto\",\"x\":[73],\"xaxis\":\"x\",\"y\":[\"Ray Bradbury\"],\"yaxis\":\"y\",\"type\":\"bar\"},{\"alignmentgroup\":\"True\",\"hovertemplate\":\"value=%{y}<br>count=%{x}<extra></extra>\",\"legendgroup\":\"Don Pendleton\",\"marker\":{\"color\":\"#636efa\",\"pattern\":{\"shape\":\"\"}},\"name\":\"Don Pendleton\",\"offsetgroup\":\"Don Pendleton\",\"orientation\":\"h\",\"showlegend\":true,\"textposition\":\"auto\",\"x\":[73],\"xaxis\":\"x\",\"y\":[\"Don Pendleton\"],\"yaxis\":\"y\",\"type\":\"bar\"},{\"alignmentgroup\":\"True\",\"hovertemplate\":\"value=%{y}<br>count=%{x}<extra></extra>\",\"legendgroup\":\"John Steinbeck\",\"marker\":{\"color\":\"#EF553B\",\"pattern\":{\"shape\":\"\"}},\"name\":\"John Steinbeck\",\"offsetgroup\":\"John Steinbeck\",\"orientation\":\"h\",\"showlegend\":true,\"textposition\":\"auto\",\"x\":[74],\"xaxis\":\"x\",\"y\":[\"John Steinbeck\"],\"yaxis\":\"y\",\"type\":\"bar\"},{\"alignmentgroup\":\"True\",\"hovertemplate\":\"value=%{y}<br>count=%{x}<extra></extra>\",\"legendgroup\":\"Jack Canfield\",\"marker\":{\"color\":\"#00cc96\",\"pattern\":{\"shape\":\"\"}},\"name\":\"Jack Canfield\",\"offsetgroup\":\"Jack Canfield\",\"orientation\":\"h\",\"showlegend\":true,\"textposition\":\"auto\",\"x\":[75],\"xaxis\":\"x\",\"y\":[\"Jack Canfield\"],\"yaxis\":\"y\",\"type\":\"bar\"},{\"alignmentgroup\":\"True\",\"hovertemplate\":\"value=%{y}<br>count=%{x}<extra></extra>\",\"legendgroup\":\"Barbara Delinsky\",\"marker\":{\"color\":\"#ab63fa\",\"pattern\":{\"shape\":\"\"}},\"name\":\"Barbara Delinsky\",\"offsetgroup\":\"Barbara Delinsky\",\"orientation\":\"h\",\"showlegend\":true,\"textposition\":\"auto\",\"x\":[76],\"xaxis\":\"x\",\"y\":[\"Barbara Delinsky\"],\"yaxis\":\"y\",\"type\":\"bar\"},{\"alignmentgroup\":\"True\",\"hovertemplate\":\"value=%{y}<br>count=%{x}<extra></extra>\",\"legendgroup\":\"Dean R. Koontz\",\"marker\":{\"color\":\"#FFA15A\",\"pattern\":{\"shape\":\"\"}},\"name\":\"Dean R. Koontz\",\"offsetgroup\":\"Dean R. Koontz\",\"orientation\":\"h\",\"showlegend\":true,\"textposition\":\"auto\",\"x\":[77],\"xaxis\":\"x\",\"y\":[\"Dean R. Koontz\"],\"yaxis\":\"y\",\"type\":\"bar\"},{\"alignmentgroup\":\"True\",\"hovertemplate\":\"value=%{y}<br>count=%{x}<extra></extra>\",\"legendgroup\":\"Robert Ludlum\",\"marker\":{\"color\":\"#19d3f3\",\"pattern\":{\"shape\":\"\"}},\"name\":\"Robert Ludlum\",\"offsetgroup\":\"Robert Ludlum\",\"orientation\":\"h\",\"showlegend\":true,\"textposition\":\"auto\",\"x\":[78],\"xaxis\":\"x\",\"y\":[\"Robert Ludlum\"],\"yaxis\":\"y\",\"type\":\"bar\"},{\"alignmentgroup\":\"True\",\"hovertemplate\":\"value=%{y}<br>count=%{x}<extra></extra>\",\"legendgroup\":\"Ken Follett\",\"marker\":{\"color\":\"#FF6692\",\"pattern\":{\"shape\":\"\"}},\"name\":\"Ken Follett\",\"offsetgroup\":\"Ken Follett\",\"orientation\":\"h\",\"showlegend\":true,\"textposition\":\"auto\",\"x\":[78],\"xaxis\":\"x\",\"y\":[\"Ken Follett\"],\"yaxis\":\"y\",\"type\":\"bar\"},{\"alignmentgroup\":\"True\",\"hovertemplate\":\"value=%{y}<br>count=%{x}<extra></extra>\",\"legendgroup\":\"V.C. Andrews\",\"marker\":{\"color\":\"#B6E880\",\"pattern\":{\"shape\":\"\"}},\"name\":\"V.C. Andrews\",\"offsetgroup\":\"V.C. Andrews\",\"orientation\":\"h\",\"showlegend\":true,\"textposition\":\"auto\",\"x\":[79],\"xaxis\":\"x\",\"y\":[\"V.C. Andrews\"],\"yaxis\":\"y\",\"type\":\"bar\"},{\"alignmentgroup\":\"True\",\"hovertemplate\":\"value=%{y}<br>count=%{x}<extra></extra>\",\"legendgroup\":\"Not Applicable (Na )\",\"marker\":{\"color\":\"#FF97FF\",\"pattern\":{\"shape\":\"\"}},\"name\":\"Not Applicable (Na )\",\"offsetgroup\":\"Not Applicable (Na )\",\"orientation\":\"h\",\"showlegend\":true,\"textposition\":\"auto\",\"x\":[80],\"xaxis\":\"x\",\"y\":[\"Not Applicable (Na )\"],\"yaxis\":\"y\",\"type\":\"bar\"},{\"alignmentgroup\":\"True\",\"hovertemplate\":\"value=%{y}<br>count=%{x}<extra></extra>\",\"legendgroup\":\"Jude Deveraux\",\"marker\":{\"color\":\"#FECB52\",\"pattern\":{\"shape\":\"\"}},\"name\":\"Jude Deveraux\",\"offsetgroup\":\"Jude Deveraux\",\"orientation\":\"h\",\"showlegend\":true,\"textposition\":\"auto\",\"x\":[80],\"xaxis\":\"x\",\"y\":[\"Jude Deveraux\"],\"yaxis\":\"y\",\"type\":\"bar\"},{\"alignmentgroup\":\"True\",\"hovertemplate\":\"value=%{y}<br>count=%{x}<extra></extra>\",\"legendgroup\":\"John Grisham\",\"marker\":{\"color\":\"#636efa\",\"pattern\":{\"shape\":\"\"}},\"name\":\"John Grisham\",\"offsetgroup\":\"John Grisham\",\"orientation\":\"h\",\"showlegend\":true,\"textposition\":\"auto\",\"x\":[82],\"xaxis\":\"x\",\"y\":[\"John Grisham\"],\"yaxis\":\"y\",\"type\":\"bar\"},{\"alignmentgroup\":\"True\",\"hovertemplate\":\"value=%{y}<br>count=%{x}<extra></extra>\",\"legendgroup\":\"J. R. R. Tolkien\",\"marker\":{\"color\":\"#EF553B\",\"pattern\":{\"shape\":\"\"}},\"name\":\"J. R. R. Tolkien\",\"offsetgroup\":\"J. R. R. Tolkien\",\"orientation\":\"h\",\"showlegend\":true,\"textposition\":\"auto\",\"x\":[83],\"xaxis\":\"x\",\"y\":[\"J. R. R. Tolkien\"],\"yaxis\":\"y\",\"type\":\"bar\"},{\"alignmentgroup\":\"True\",\"hovertemplate\":\"value=%{y}<br>count=%{x}<extra></extra>\",\"legendgroup\":\"Jayne Ann Krentz\",\"marker\":{\"color\":\"#00cc96\",\"pattern\":{\"shape\":\"\"}},\"name\":\"Jayne Ann Krentz\",\"offsetgroup\":\"Jayne Ann Krentz\",\"orientation\":\"h\",\"showlegend\":true,\"textposition\":\"auto\",\"x\":[84],\"xaxis\":\"x\",\"y\":[\"Jayne Ann Krentz\"],\"yaxis\":\"y\",\"type\":\"bar\"},{\"alignmentgroup\":\"True\",\"hovertemplate\":\"value=%{y}<br>count=%{x}<extra></extra>\",\"legendgroup\":\"Catherine Coulter\",\"marker\":{\"color\":\"#ab63fa\",\"pattern\":{\"shape\":\"\"}},\"name\":\"Catherine Coulter\",\"offsetgroup\":\"Catherine Coulter\",\"orientation\":\"h\",\"showlegend\":true,\"textposition\":\"auto\",\"x\":[84],\"xaxis\":\"x\",\"y\":[\"Catherine Coulter\"],\"yaxis\":\"y\",\"type\":\"bar\"},{\"alignmentgroup\":\"True\",\"hovertemplate\":\"value=%{y}<br>count=%{x}<extra></extra>\",\"legendgroup\":\"Franklin W. Dixon\",\"marker\":{\"color\":\"#FFA15A\",\"pattern\":{\"shape\":\"\"}},\"name\":\"Franklin W. Dixon\",\"offsetgroup\":\"Franklin W. Dixon\",\"orientation\":\"h\",\"showlegend\":true,\"textposition\":\"auto\",\"x\":[87],\"xaxis\":\"x\",\"y\":[\"Franklin W. Dixon\"],\"yaxis\":\"y\",\"type\":\"bar\"},{\"alignmentgroup\":\"True\",\"hovertemplate\":\"value=%{y}<br>count=%{x}<extra></extra>\",\"legendgroup\":\"R.L. Stine\",\"marker\":{\"color\":\"#19d3f3\",\"pattern\":{\"shape\":\"\"}},\"name\":\"R.L. Stine\",\"offsetgroup\":\"R.L. Stine\",\"orientation\":\"h\",\"showlegend\":true,\"textposition\":\"auto\",\"x\":[87],\"xaxis\":\"x\",\"y\":[\"R.L. Stine\"],\"yaxis\":\"y\",\"type\":\"bar\"},{\"alignmentgroup\":\"True\",\"hovertemplate\":\"value=%{y}<br>count=%{x}<extra></extra>\",\"legendgroup\":\"Fern Michaels\",\"marker\":{\"color\":\"#FF6692\",\"pattern\":{\"shape\":\"\"}},\"name\":\"Fern Michaels\",\"offsetgroup\":\"Fern Michaels\",\"orientation\":\"h\",\"showlegend\":true,\"textposition\":\"auto\",\"x\":[88],\"xaxis\":\"x\",\"y\":[\"Fern Michaels\"],\"yaxis\":\"y\",\"type\":\"bar\"},{\"alignmentgroup\":\"True\",\"hovertemplate\":\"value=%{y}<br>count=%{x}<extra></extra>\",\"legendgroup\":\"Orson Scott Card\",\"marker\":{\"color\":\"#B6E880\",\"pattern\":{\"shape\":\"\"}},\"name\":\"Orson Scott Card\",\"offsetgroup\":\"Orson Scott Card\",\"orientation\":\"h\",\"showlegend\":true,\"textposition\":\"auto\",\"x\":[91],\"xaxis\":\"x\",\"y\":[\"Orson Scott Card\"],\"yaxis\":\"y\",\"type\":\"bar\"},{\"alignmentgroup\":\"True\",\"hovertemplate\":\"value=%{y}<br>count=%{x}<extra></extra>\",\"legendgroup\":\"Mark Twain\",\"marker\":{\"color\":\"#FF97FF\",\"pattern\":{\"shape\":\"\"}},\"name\":\"Mark Twain\",\"offsetgroup\":\"Mark Twain\",\"orientation\":\"h\",\"showlegend\":true,\"textposition\":\"auto\",\"x\":[98],\"xaxis\":\"x\",\"y\":[\"Mark Twain\"],\"yaxis\":\"y\",\"type\":\"bar\"},{\"alignmentgroup\":\"True\",\"hovertemplate\":\"value=%{y}<br>count=%{x}<extra></extra>\",\"legendgroup\":\"Danielle Steel\",\"marker\":{\"color\":\"#FECB52\",\"pattern\":{\"shape\":\"\"}},\"name\":\"Danielle Steel\",\"offsetgroup\":\"Danielle Steel\",\"orientation\":\"h\",\"showlegend\":true,\"textposition\":\"auto\",\"x\":[102],\"xaxis\":\"x\",\"y\":[\"Danielle Steel\"],\"yaxis\":\"y\",\"type\":\"bar\"},{\"alignmentgroup\":\"True\",\"hovertemplate\":\"value=%{y}<br>count=%{x}<extra></extra>\",\"legendgroup\":\"Sandra Brown\",\"marker\":{\"color\":\"#636efa\",\"pattern\":{\"shape\":\"\"}},\"name\":\"Sandra Brown\",\"offsetgroup\":\"Sandra Brown\",\"orientation\":\"h\",\"showlegend\":true,\"textposition\":\"auto\",\"x\":[102],\"xaxis\":\"x\",\"y\":[\"Sandra Brown\"],\"yaxis\":\"y\",\"type\":\"bar\"},{\"alignmentgroup\":\"True\",\"hovertemplate\":\"value=%{y}<br>count=%{x}<extra></extra>\",\"legendgroup\":\"Tom Clancy\",\"marker\":{\"color\":\"#EF553B\",\"pattern\":{\"shape\":\"\"}},\"name\":\"Tom Clancy\",\"offsetgroup\":\"Tom Clancy\",\"orientation\":\"h\",\"showlegend\":true,\"textposition\":\"auto\",\"x\":[102],\"xaxis\":\"x\",\"y\":[\"Tom Clancy\"],\"yaxis\":\"y\",\"type\":\"bar\"},{\"alignmentgroup\":\"True\",\"hovertemplate\":\"value=%{y}<br>count=%{x}<extra></extra>\",\"legendgroup\":\"Dick Francis\",\"marker\":{\"color\":\"#00cc96\",\"pattern\":{\"shape\":\"\"}},\"name\":\"Dick Francis\",\"offsetgroup\":\"Dick Francis\",\"orientation\":\"h\",\"showlegend\":true,\"textposition\":\"auto\",\"x\":[106],\"xaxis\":\"x\",\"y\":[\"Dick Francis\"],\"yaxis\":\"y\",\"type\":\"bar\"},{\"alignmentgroup\":\"True\",\"hovertemplate\":\"value=%{y}<br>count=%{x}<extra></extra>\",\"legendgroup\":\"Marion Zimmer Bradley\",\"marker\":{\"color\":\"#ab63fa\",\"pattern\":{\"shape\":\"\"}},\"name\":\"Marion Zimmer Bradley\",\"offsetgroup\":\"Marion Zimmer Bradley\",\"orientation\":\"h\",\"showlegend\":true,\"textposition\":\"auto\",\"x\":[109],\"xaxis\":\"x\",\"y\":[\"Marion Zimmer Bradley\"],\"yaxis\":\"y\",\"type\":\"bar\"},{\"alignmentgroup\":\"True\",\"hovertemplate\":\"value=%{y}<br>count=%{x}<extra></extra>\",\"legendgroup\":\"Roald Dahl\",\"marker\":{\"color\":\"#FFA15A\",\"pattern\":{\"shape\":\"\"}},\"name\":\"Roald Dahl\",\"offsetgroup\":\"Roald Dahl\",\"orientation\":\"h\",\"showlegend\":true,\"textposition\":\"auto\",\"x\":[109],\"xaxis\":\"x\",\"y\":[\"Roald Dahl\"],\"yaxis\":\"y\",\"type\":\"bar\"},{\"alignmentgroup\":\"True\",\"hovertemplate\":\"value=%{y}<br>count=%{x}<extra></extra>\",\"legendgroup\":\"Terry Pratchett\",\"marker\":{\"color\":\"#19d3f3\",\"pattern\":{\"shape\":\"\"}},\"name\":\"Terry Pratchett\",\"offsetgroup\":\"Terry Pratchett\",\"orientation\":\"h\",\"showlegend\":true,\"textposition\":\"auto\",\"x\":[119],\"xaxis\":\"x\",\"y\":[\"Terry Pratchett\"],\"yaxis\":\"y\",\"type\":\"bar\"},{\"alignmentgroup\":\"True\",\"hovertemplate\":\"value=%{y}<br>count=%{x}<extra></extra>\",\"legendgroup\":\"Mary Higgins Clark\",\"marker\":{\"color\":\"#FF6692\",\"pattern\":{\"shape\":\"\"}},\"name\":\"Mary Higgins Clark\",\"offsetgroup\":\"Mary Higgins Clark\",\"orientation\":\"h\",\"showlegend\":true,\"textposition\":\"auto\",\"x\":[120],\"xaxis\":\"x\",\"y\":[\"Mary Higgins Clark\"],\"yaxis\":\"y\",\"type\":\"bar\"},{\"alignmentgroup\":\"True\",\"hovertemplate\":\"value=%{y}<br>count=%{x}<extra></extra>\",\"legendgroup\":\"Anne McCaffrey\",\"marker\":{\"color\":\"#B6E880\",\"pattern\":{\"shape\":\"\"}},\"name\":\"Anne McCaffrey\",\"offsetgroup\":\"Anne McCaffrey\",\"orientation\":\"h\",\"showlegend\":true,\"textposition\":\"auto\",\"x\":[121],\"xaxis\":\"x\",\"y\":[\"Anne McCaffrey\"],\"yaxis\":\"y\",\"type\":\"bar\"},{\"alignmentgroup\":\"True\",\"hovertemplate\":\"value=%{y}<br>count=%{x}<extra></extra>\",\"legendgroup\":\"Jane Austen\",\"marker\":{\"color\":\"#FF97FF\",\"pattern\":{\"shape\":\"\"}},\"name\":\"Jane Austen\",\"offsetgroup\":\"Jane Austen\",\"orientation\":\"h\",\"showlegend\":true,\"textposition\":\"auto\",\"x\":[122],\"xaxis\":\"x\",\"y\":[\"Jane Austen\"],\"yaxis\":\"y\",\"type\":\"bar\"},{\"alignmentgroup\":\"True\",\"hovertemplate\":\"value=%{y}<br>count=%{x}<extra></extra>\",\"legendgroup\":\"Isaac Asimov\",\"marker\":{\"color\":\"#FECB52\",\"pattern\":{\"shape\":\"\"}},\"name\":\"Isaac Asimov\",\"offsetgroup\":\"Isaac Asimov\",\"orientation\":\"h\",\"showlegend\":true,\"textposition\":\"auto\",\"x\":[122],\"xaxis\":\"x\",\"y\":[\"Isaac Asimov\"],\"yaxis\":\"y\",\"type\":\"bar\"},{\"alignmentgroup\":\"True\",\"hovertemplate\":\"value=%{y}<br>count=%{x}<extra></extra>\",\"legendgroup\":\"Charles Dickens\",\"marker\":{\"color\":\"#636efa\",\"pattern\":{\"shape\":\"\"}},\"name\":\"Charles Dickens\",\"offsetgroup\":\"Charles Dickens\",\"orientation\":\"h\",\"showlegend\":true,\"textposition\":\"auto\",\"x\":[124],\"xaxis\":\"x\",\"y\":[\"Charles Dickens\"],\"yaxis\":\"y\",\"type\":\"bar\"},{\"alignmentgroup\":\"True\",\"hovertemplate\":\"value=%{y}<br>count=%{x}<extra></extra>\",\"legendgroup\":\"Piers Anthony\",\"marker\":{\"color\":\"#EF553B\",\"pattern\":{\"shape\":\"\"}},\"name\":\"Piers Anthony\",\"offsetgroup\":\"Piers Anthony\",\"orientation\":\"h\",\"showlegend\":true,\"textposition\":\"auto\",\"x\":[136],\"xaxis\":\"x\",\"y\":[\"Piers Anthony\"],\"yaxis\":\"y\",\"type\":\"bar\"},{\"alignmentgroup\":\"True\",\"hovertemplate\":\"value=%{y}<br>count=%{x}<extra></extra>\",\"legendgroup\":\"Francine Pascal\",\"marker\":{\"color\":\"#00cc96\",\"pattern\":{\"shape\":\"\"}},\"name\":\"Francine Pascal\",\"offsetgroup\":\"Francine Pascal\",\"orientation\":\"h\",\"showlegend\":true,\"textposition\":\"auto\",\"x\":[149],\"xaxis\":\"x\",\"y\":[\"Francine Pascal\"],\"yaxis\":\"y\",\"type\":\"bar\"},{\"alignmentgroup\":\"True\",\"hovertemplate\":\"value=%{y}<br>count=%{x}<extra></extra>\",\"legendgroup\":\"Nora Roberts\",\"marker\":{\"color\":\"#ab63fa\",\"pattern\":{\"shape\":\"\"}},\"name\":\"Nora Roberts\",\"offsetgroup\":\"Nora Roberts\",\"orientation\":\"h\",\"showlegend\":true,\"textposition\":\"auto\",\"x\":[176],\"xaxis\":\"x\",\"y\":[\"Nora Roberts\"],\"yaxis\":\"y\",\"type\":\"bar\"},{\"alignmentgroup\":\"True\",\"hovertemplate\":\"value=%{y}<br>count=%{x}<extra></extra>\",\"legendgroup\":\"R. L. Stine\",\"marker\":{\"color\":\"#FFA15A\",\"pattern\":{\"shape\":\"\"}},\"name\":\"R. L. Stine\",\"offsetgroup\":\"R. L. Stine\",\"orientation\":\"h\",\"showlegend\":true,\"textposition\":\"auto\",\"x\":[178],\"xaxis\":\"x\",\"y\":[\"R. L. Stine\"],\"yaxis\":\"y\",\"type\":\"bar\"},{\"alignmentgroup\":\"True\",\"hovertemplate\":\"value=%{y}<br>count=%{x}<extra></extra>\",\"legendgroup\":\"Ann M. Martin\",\"marker\":{\"color\":\"#19d3f3\",\"pattern\":{\"shape\":\"\"}},\"name\":\"Ann M. Martin\",\"offsetgroup\":\"Ann M. Martin\",\"orientation\":\"h\",\"showlegend\":true,\"textposition\":\"auto\",\"x\":[189],\"xaxis\":\"x\",\"y\":[\"Ann M. Martin\"],\"yaxis\":\"y\",\"type\":\"bar\"},{\"alignmentgroup\":\"True\",\"hovertemplate\":\"value=%{y}<br>count=%{x}<extra></extra>\",\"legendgroup\":\"Carolyn Keene\",\"marker\":{\"color\":\"#FF6692\",\"pattern\":{\"shape\":\"\"}},\"name\":\"Carolyn Keene\",\"offsetgroup\":\"Carolyn Keene\",\"orientation\":\"h\",\"showlegend\":true,\"textposition\":\"auto\",\"x\":[205],\"xaxis\":\"x\",\"y\":[\"Carolyn Keene\"],\"yaxis\":\"y\",\"type\":\"bar\"},{\"alignmentgroup\":\"True\",\"hovertemplate\":\"value=%{y}<br>count=%{x}<extra></extra>\",\"legendgroup\":\"William Shakespeare\",\"marker\":{\"color\":\"#B6E880\",\"pattern\":{\"shape\":\"\"}},\"name\":\"William Shakespeare\",\"offsetgroup\":\"William Shakespeare\",\"orientation\":\"h\",\"showlegend\":true,\"textposition\":\"auto\",\"x\":[226],\"xaxis\":\"x\",\"y\":[\"William Shakespeare\"],\"yaxis\":\"y\",\"type\":\"bar\"},{\"alignmentgroup\":\"True\",\"hovertemplate\":\"value=%{y}<br>count=%{x}<extra></extra>\",\"legendgroup\":\"Stephen King\",\"marker\":{\"color\":\"#FF97FF\",\"pattern\":{\"shape\":\"\"}},\"name\":\"Stephen King\",\"offsetgroup\":\"Stephen King\",\"orientation\":\"h\",\"showlegend\":true,\"textposition\":\"auto\",\"x\":[309],\"xaxis\":\"x\",\"y\":[\"Stephen King\"],\"yaxis\":\"y\",\"type\":\"bar\"},{\"alignmentgroup\":\"True\",\"hovertemplate\":\"value=%{y}<br>count=%{x}<extra></extra>\",\"legendgroup\":\"Agatha Christie\",\"marker\":{\"color\":\"#FECB52\",\"pattern\":{\"shape\":\"\"}},\"name\":\"Agatha Christie\",\"offsetgroup\":\"Agatha Christie\",\"orientation\":\"h\",\"showlegend\":true,\"textposition\":\"auto\",\"x\":[322],\"xaxis\":\"x\",\"y\":[\"Agatha Christie\"],\"yaxis\":\"y\",\"type\":\"bar\"}],                        {\"template\":{\"data\":{\"bar\":[{\"error_x\":{\"color\":\"#2a3f5f\"},\"error_y\":{\"color\":\"#2a3f5f\"},\"marker\":{\"line\":{\"color\":\"#E5ECF6\",\"width\":0.5},\"pattern\":{\"fillmode\":\"overlay\",\"size\":10,\"solidity\":0.2}},\"type\":\"bar\"}],\"barpolar\":[{\"marker\":{\"line\":{\"color\":\"#E5ECF6\",\"width\":0.5},\"pattern\":{\"fillmode\":\"overlay\",\"size\":10,\"solidity\":0.2}},\"type\":\"barpolar\"}],\"carpet\":[{\"aaxis\":{\"endlinecolor\":\"#2a3f5f\",\"gridcolor\":\"white\",\"linecolor\":\"white\",\"minorgridcolor\":\"white\",\"startlinecolor\":\"#2a3f5f\"},\"baxis\":{\"endlinecolor\":\"#2a3f5f\",\"gridcolor\":\"white\",\"linecolor\":\"white\",\"minorgridcolor\":\"white\",\"startlinecolor\":\"#2a3f5f\"},\"type\":\"carpet\"}],\"choropleth\":[{\"colorbar\":{\"outlinewidth\":0,\"ticks\":\"\"},\"type\":\"choropleth\"}],\"contour\":[{\"colorbar\":{\"outlinewidth\":0,\"ticks\":\"\"},\"colorscale\":[[0.0,\"#0d0887\"],[0.1111111111111111,\"#46039f\"],[0.2222222222222222,\"#7201a8\"],[0.3333333333333333,\"#9c179e\"],[0.4444444444444444,\"#bd3786\"],[0.5555555555555556,\"#d8576b\"],[0.6666666666666666,\"#ed7953\"],[0.7777777777777778,\"#fb9f3a\"],[0.8888888888888888,\"#fdca26\"],[1.0,\"#f0f921\"]],\"type\":\"contour\"}],\"contourcarpet\":[{\"colorbar\":{\"outlinewidth\":0,\"ticks\":\"\"},\"type\":\"contourcarpet\"}],\"heatmap\":[{\"colorbar\":{\"outlinewidth\":0,\"ticks\":\"\"},\"colorscale\":[[0.0,\"#0d0887\"],[0.1111111111111111,\"#46039f\"],[0.2222222222222222,\"#7201a8\"],[0.3333333333333333,\"#9c179e\"],[0.4444444444444444,\"#bd3786\"],[0.5555555555555556,\"#d8576b\"],[0.6666666666666666,\"#ed7953\"],[0.7777777777777778,\"#fb9f3a\"],[0.8888888888888888,\"#fdca26\"],[1.0,\"#f0f921\"]],\"type\":\"heatmap\"}],\"heatmapgl\":[{\"colorbar\":{\"outlinewidth\":0,\"ticks\":\"\"},\"colorscale\":[[0.0,\"#0d0887\"],[0.1111111111111111,\"#46039f\"],[0.2222222222222222,\"#7201a8\"],[0.3333333333333333,\"#9c179e\"],[0.4444444444444444,\"#bd3786\"],[0.5555555555555556,\"#d8576b\"],[0.6666666666666666,\"#ed7953\"],[0.7777777777777778,\"#fb9f3a\"],[0.8888888888888888,\"#fdca26\"],[1.0,\"#f0f921\"]],\"type\":\"heatmapgl\"}],\"histogram\":[{\"marker\":{\"pattern\":{\"fillmode\":\"overlay\",\"size\":10,\"solidity\":0.2}},\"type\":\"histogram\"}],\"histogram2d\":[{\"colorbar\":{\"outlinewidth\":0,\"ticks\":\"\"},\"colorscale\":[[0.0,\"#0d0887\"],[0.1111111111111111,\"#46039f\"],[0.2222222222222222,\"#7201a8\"],[0.3333333333333333,\"#9c179e\"],[0.4444444444444444,\"#bd3786\"],[0.5555555555555556,\"#d8576b\"],[0.6666666666666666,\"#ed7953\"],[0.7777777777777778,\"#fb9f3a\"],[0.8888888888888888,\"#fdca26\"],[1.0,\"#f0f921\"]],\"type\":\"histogram2d\"}],\"histogram2dcontour\":[{\"colorbar\":{\"outlinewidth\":0,\"ticks\":\"\"},\"colorscale\":[[0.0,\"#0d0887\"],[0.1111111111111111,\"#46039f\"],[0.2222222222222222,\"#7201a8\"],[0.3333333333333333,\"#9c179e\"],[0.4444444444444444,\"#bd3786\"],[0.5555555555555556,\"#d8576b\"],[0.6666666666666666,\"#ed7953\"],[0.7777777777777778,\"#fb9f3a\"],[0.8888888888888888,\"#fdca26\"],[1.0,\"#f0f921\"]],\"type\":\"histogram2dcontour\"}],\"mesh3d\":[{\"colorbar\":{\"outlinewidth\":0,\"ticks\":\"\"},\"type\":\"mesh3d\"}],\"parcoords\":[{\"line\":{\"colorbar\":{\"outlinewidth\":0,\"ticks\":\"\"}},\"type\":\"parcoords\"}],\"pie\":[{\"automargin\":true,\"type\":\"pie\"}],\"scatter\":[{\"marker\":{\"colorbar\":{\"outlinewidth\":0,\"ticks\":\"\"}},\"type\":\"scatter\"}],\"scatter3d\":[{\"line\":{\"colorbar\":{\"outlinewidth\":0,\"ticks\":\"\"}},\"marker\":{\"colorbar\":{\"outlinewidth\":0,\"ticks\":\"\"}},\"type\":\"scatter3d\"}],\"scattercarpet\":[{\"marker\":{\"colorbar\":{\"outlinewidth\":0,\"ticks\":\"\"}},\"type\":\"scattercarpet\"}],\"scattergeo\":[{\"marker\":{\"colorbar\":{\"outlinewidth\":0,\"ticks\":\"\"}},\"type\":\"scattergeo\"}],\"scattergl\":[{\"marker\":{\"colorbar\":{\"outlinewidth\":0,\"ticks\":\"\"}},\"type\":\"scattergl\"}],\"scattermapbox\":[{\"marker\":{\"colorbar\":{\"outlinewidth\":0,\"ticks\":\"\"}},\"type\":\"scattermapbox\"}],\"scatterpolar\":[{\"marker\":{\"colorbar\":{\"outlinewidth\":0,\"ticks\":\"\"}},\"type\":\"scatterpolar\"}],\"scatterpolargl\":[{\"marker\":{\"colorbar\":{\"outlinewidth\":0,\"ticks\":\"\"}},\"type\":\"scatterpolargl\"}],\"scatterternary\":[{\"marker\":{\"colorbar\":{\"outlinewidth\":0,\"ticks\":\"\"}},\"type\":\"scatterternary\"}],\"surface\":[{\"colorbar\":{\"outlinewidth\":0,\"ticks\":\"\"},\"colorscale\":[[0.0,\"#0d0887\"],[0.1111111111111111,\"#46039f\"],[0.2222222222222222,\"#7201a8\"],[0.3333333333333333,\"#9c179e\"],[0.4444444444444444,\"#bd3786\"],[0.5555555555555556,\"#d8576b\"],[0.6666666666666666,\"#ed7953\"],[0.7777777777777778,\"#fb9f3a\"],[0.8888888888888888,\"#fdca26\"],[1.0,\"#f0f921\"]],\"type\":\"surface\"}],\"table\":[{\"cells\":{\"fill\":{\"color\":\"#EBF0F8\"},\"line\":{\"color\":\"white\"}},\"header\":{\"fill\":{\"color\":\"#C8D4E3\"},\"line\":{\"color\":\"white\"}},\"type\":\"table\"}]},\"layout\":{\"annotationdefaults\":{\"arrowcolor\":\"#2a3f5f\",\"arrowhead\":0,\"arrowwidth\":1},\"autotypenumbers\":\"strict\",\"coloraxis\":{\"colorbar\":{\"outlinewidth\":0,\"ticks\":\"\"}},\"colorscale\":{\"diverging\":[[0,\"#8e0152\"],[0.1,\"#c51b7d\"],[0.2,\"#de77ae\"],[0.3,\"#f1b6da\"],[0.4,\"#fde0ef\"],[0.5,\"#f7f7f7\"],[0.6,\"#e6f5d0\"],[0.7,\"#b8e186\"],[0.8,\"#7fbc41\"],[0.9,\"#4d9221\"],[1,\"#276419\"]],\"sequential\":[[0.0,\"#0d0887\"],[0.1111111111111111,\"#46039f\"],[0.2222222222222222,\"#7201a8\"],[0.3333333333333333,\"#9c179e\"],[0.4444444444444444,\"#bd3786\"],[0.5555555555555556,\"#d8576b\"],[0.6666666666666666,\"#ed7953\"],[0.7777777777777778,\"#fb9f3a\"],[0.8888888888888888,\"#fdca26\"],[1.0,\"#f0f921\"]],\"sequentialminus\":[[0.0,\"#0d0887\"],[0.1111111111111111,\"#46039f\"],[0.2222222222222222,\"#7201a8\"],[0.3333333333333333,\"#9c179e\"],[0.4444444444444444,\"#bd3786\"],[0.5555555555555556,\"#d8576b\"],[0.6666666666666666,\"#ed7953\"],[0.7777777777777778,\"#fb9f3a\"],[0.8888888888888888,\"#fdca26\"],[1.0,\"#f0f921\"]]},\"colorway\":[\"#636efa\",\"#EF553B\",\"#00cc96\",\"#ab63fa\",\"#FFA15A\",\"#19d3f3\",\"#FF6692\",\"#B6E880\",\"#FF97FF\",\"#FECB52\"],\"font\":{\"color\":\"#2a3f5f\"},\"geo\":{\"bgcolor\":\"white\",\"lakecolor\":\"white\",\"landcolor\":\"#E5ECF6\",\"showlakes\":true,\"showland\":true,\"subunitcolor\":\"white\"},\"hoverlabel\":{\"align\":\"left\"},\"hovermode\":\"closest\",\"mapbox\":{\"style\":\"light\"},\"paper_bgcolor\":\"white\",\"plot_bgcolor\":\"#E5ECF6\",\"polar\":{\"angularaxis\":{\"gridcolor\":\"white\",\"linecolor\":\"white\",\"ticks\":\"\"},\"bgcolor\":\"#E5ECF6\",\"radialaxis\":{\"gridcolor\":\"white\",\"linecolor\":\"white\",\"ticks\":\"\"}},\"scene\":{\"xaxis\":{\"backgroundcolor\":\"#E5ECF6\",\"gridcolor\":\"white\",\"gridwidth\":2,\"linecolor\":\"white\",\"showbackground\":true,\"ticks\":\"\",\"zerolinecolor\":\"white\"},\"yaxis\":{\"backgroundcolor\":\"#E5ECF6\",\"gridcolor\":\"white\",\"gridwidth\":2,\"linecolor\":\"white\",\"showbackground\":true,\"ticks\":\"\",\"zerolinecolor\":\"white\"},\"zaxis\":{\"backgroundcolor\":\"#E5ECF6\",\"gridcolor\":\"white\",\"gridwidth\":2,\"linecolor\":\"white\",\"showbackground\":true,\"ticks\":\"\",\"zerolinecolor\":\"white\"}},\"shapedefaults\":{\"line\":{\"color\":\"#2a3f5f\"}},\"ternary\":{\"aaxis\":{\"gridcolor\":\"white\",\"linecolor\":\"white\",\"ticks\":\"\"},\"baxis\":{\"gridcolor\":\"white\",\"linecolor\":\"white\",\"ticks\":\"\"},\"bgcolor\":\"#E5ECF6\",\"caxis\":{\"gridcolor\":\"white\",\"linecolor\":\"white\",\"ticks\":\"\"}},\"title\":{\"x\":0.05},\"xaxis\":{\"automargin\":true,\"gridcolor\":\"white\",\"linecolor\":\"white\",\"ticks\":\"\",\"title\":{\"standoff\":15},\"zerolinecolor\":\"white\",\"zerolinewidth\":2},\"yaxis\":{\"automargin\":true,\"gridcolor\":\"white\",\"linecolor\":\"white\",\"ticks\":\"\",\"title\":{\"standoff\":15},\"zerolinecolor\":\"white\",\"zerolinewidth\":2}}},\"xaxis\":{\"anchor\":\"y\",\"domain\":[0.0,1.0],\"title\":{\"text\":\"count\"}},\"yaxis\":{\"anchor\":\"x\",\"domain\":[0.0,1.0],\"title\":{\"text\":\"value\"},\"categoryorder\":\"array\",\"categoryarray\":[\"Agatha Christie\",\"Stephen King\",\"William Shakespeare\",\"Carolyn Keene\",\"Ann M. Martin\",\"R. L. Stine\",\"Nora Roberts\",\"Francine Pascal\",\"Piers Anthony\",\"Charles Dickens\",\"Isaac Asimov\",\"Jane Austen\",\"Anne McCaffrey\",\"Mary Higgins Clark\",\"Terry Pratchett\",\"Roald Dahl\",\"Marion Zimmer Bradley\",\"Dick Francis\",\"Tom Clancy\",\"Sandra Brown\",\"Danielle Steel\",\"Mark Twain\",\"Orson Scott Card\",\"Fern Michaels\",\"R.L. Stine\",\"Franklin W. Dixon\",\"Catherine Coulter\",\"Jayne Ann Krentz\",\"J. R. R. Tolkien\",\"John Grisham\",\"Jude Deveraux\",\"Not Applicable (Na )\",\"V.C. Andrews\",\"Ken Follett\",\"Robert Ludlum\",\"Dean R. Koontz\",\"Barbara Delinsky\",\"Jack Canfield\",\"John Steinbeck\",\"Don Pendleton\",\"Ray Bradbury\",\"Clive Cussler\",\"Linda Howard\",\"Mercedes Lackey\",\"Diana Palmer\",\"Beverly Cleary\",\"Douglas Adams\",\"Debbie Macomber\",\"Margaret Weis\",\"Robin Cook\"]},\"legend\":{\"title\":{\"text\":\"value\"},\"tracegroupgap\":0},\"title\":{\"text\":\"Top Authors\"},\"barmode\":\"relative\",\"height\":700,\"width\":1000},                        {\"responsive\": true}                    ).then(function(){\n",
              "                            \n",
              "var gd = document.getElementById('3325181f-cc45-4e10-8092-6f43c017ab38');\n",
              "var x = new MutationObserver(function (mutations, observer) {{\n",
              "        var display = window.getComputedStyle(gd).display;\n",
              "        if (!display || display === 'none') {{\n",
              "            console.log([gd, 'removed!']);\n",
              "            Plotly.purge(gd);\n",
              "            observer.disconnect();\n",
              "        }}\n",
              "}});\n",
              "\n",
              "// Listen for the removal of the full notebook cells\n",
              "var notebookContainer = gd.closest('#notebook-container');\n",
              "if (notebookContainer) {{\n",
              "    x.observe(notebookContainer, {childList: true});\n",
              "}}\n",
              "\n",
              "// Listen for the clearing of the current output cell\n",
              "var outputEl = gd.closest('.output');\n",
              "if (outputEl) {{\n",
              "    x.observe(outputEl, {childList: true});\n",
              "}}\n",
              "\n",
              "                        })                };                            </script>        </div>\n",
              "</body>\n",
              "</html>"
            ]
          },
          "metadata": {}
        }
      ]
    },
    {
      "cell_type": "code",
      "source": [
        "# Meneliti id buku - buku apa saja yang di-rate 10 oleh pengguna\n",
        "rating[rating.rating == max(rating.rating)]\n",
        "best_booksId = rating.ISBN[rating.rating == max(rating.rating)]\n",
        "best_booksId = list(dict.fromkeys(best_booksId))"
      ],
      "metadata": {
        "id": "arVaMzhAaKrB"
      },
      "execution_count": 38,
      "outputs": []
    },
    {
      "cell_type": "code",
      "source": [
        "book = book.rename(columns={'Book-Title': 'book_title','Book-Author':'book_author','Year-Of-Publication':'year_of_publication'})"
      ],
      "metadata": {
        "id": "do5ZQ2NgaMLp"
      },
      "execution_count": 39,
      "outputs": []
    },
    {
      "cell_type": "code",
      "source": [
        "best_books = []\n",
        "for i in best_booksId:\n",
        "    books_name = book.book_title[book.ISBN == i]\n",
        "    best_books.append(books_name)"
      ],
      "metadata": {
        "id": "E57QOzrFaOsh"
      },
      "execution_count": 40,
      "outputs": []
    },
    {
      "cell_type": "code",
      "source": [
        "len(best_books)"
      ],
      "metadata": {
        "colab": {
          "base_uri": "https://localhost:8080/"
        },
        "id": "GoCc2UJSaQkx",
        "outputId": "666a633b-dc0a-4008-9e91-ce78a3be2131"
      },
      "execution_count": 41,
      "outputs": [
        {
          "output_type": "execute_result",
          "data": {
            "text/plain": [
              "385"
            ]
          },
          "metadata": {},
          "execution_count": 41
        }
      ]
    },
    {
      "cell_type": "code",
      "source": [
        "count = rating[\"rating\"].value_counts()\n",
        "count.plot(kind='bar', title=\"Rating\");\n",
        " \n",
        "plt.show()"
      ],
      "metadata": {
        "colab": {
          "base_uri": "https://localhost:8080/",
          "height": 284
        },
        "id": "yep0pn1AcUPD",
        "outputId": "c569ebe2-348b-44fd-8cbf-9ed5d1b55065"
      },
      "execution_count": 42,
      "outputs": [
        {
          "output_type": "display_data",
          "data": {
            "text/plain": [
              "<Figure size 432x288 with 1 Axes>"
            ],
            "image/png": "[encoded data removed]"
          },
          "metadata": {
            "needs_background": "light"
          }
        }
      ]
    },
    {
      "cell_type": "markdown",
      "source": [
        "## Content Based Filltering"
      ],
      "metadata": {
        "id": "FrT74rx2ca-4"
      }
    },
    {
      "cell_type": "code",
      "source": [
        "# Ubah dataframe menjadi list \n",
        "isbn_book = book['ISBN'].tolist()\n",
        "title_book = book['book_title'].tolist()\n",
        "author = book['book_author'].tolist()\n",
        "book_year_of_publication = book['year_of_publication'].tolist()"
      ],
      "metadata": {
        "id": "afQe_mYscZME"
      },
      "execution_count": 43,
      "outputs": []
    },
    {
      "cell_type": "code",
      "source": [
        "book = pd.DataFrame({\n",
        "    'isbn_book' : isbn_book,\n",
        "    'title_book' : title_book,\n",
        "    'author' : author,\n",
        "    'book_year_of_publication' : book_year_of_publication\n",
        "})"
      ],
      "metadata": {
        "id": "fT51CW2wcgIa"
      },
      "execution_count": 44,
      "outputs": []
    },
    {
      "cell_type": "code",
      "source": [
        "# Inisialisasi TfidfVectorizer\n",
        "tf = TfidfVectorizer()\n",
        "\n",
        "#Melakukan perhitungan idf pada data author\n",
        "tf.fit(book['author']) \n",
        " \n",
        "tf.get_feature_names() "
      ],
      "metadata": {
        "colab": {
          "base_uri": "https://localhost:8080/"
        },
        "id": "HDg_vQuNci6J",
        "outputId": "a09575a0-cefa-4087-c7e4-a523d7a43536"
      },
      "execution_count": 45,
      "outputs": [
        {
          "output_type": "stream",
          "name": "stderr",
          "text": [
            "/usr/local/lib/python3.7/dist-packages/sklearn/utils/deprecation.py:87: FutureWarning:\n",
            "\n",
            "Function get_feature_names is deprecated; get_feature_names is deprecated in 1.0 and will be removed in 1.2. Please use get_feature_names_out instead.\n",
            "\n"
          ]
        },
        {
          "output_type": "execute_result",
          "data": {
            "text/plain": [
              "['00146',\n",
              " '008',\n",
              " '046',\n",
              " '1892',\n",
              " '1942',\n",
              " '1962',\n",
              " '1977',\n",
              " '60623',\n",
              " '8282',\n",
              " 'aa',\n",
              " 'aakeson',\n",
              " 'aalborg',\n",
              " 'aamodt',\n",
              " 'aardema',\n",
              " 'aarle',\n",
              " 'aaron',\n",
              " 'aarons',\n",
              " 'aarsen',\n",
              " 'aat',\n",
              " 'ab',\n",
              " 'abad',\n",
              " 'abagnale',\n",
              " 'abanes',\n",
              " 'abani',\n",
              " 'abba',\n",
              " 'abbas',\n",
              " 'abbe',\n",
              " 'abbey',\n",
              " 'abbie',\n",
              " 'abbot',\n",
              " 'abbott',\n",
              " 'abby',\n",
              " 'abdul',\n",
              " 'abdullah',\n",
              " 'abdulrazak',\n",
              " 'abe',\n",
              " 'abel',\n",
              " 'abelar',\n",
              " 'abella',\n",
              " 'abelove',\n",
              " 'abelson',\n",
              " 'aber',\n",
              " 'abercrombie',\n",
              " 'aberdeen',\n",
              " 'abergel',\n",
              " 'abes',\n",
              " 'abha',\n",
              " 'abich',\n",
              " 'abigail',\n",
              " 'abingdon',\n",
              " 'abish',\n",
              " 'abk',\n",
              " 'abley',\n",
              " 'ablon',\n",
              " 'ablow',\n",
              " 'abnett',\n",
              " 'abodaher',\n",
              " 'abou',\n",
              " 'abra',\n",
              " 'abraham',\n",
              " 'abrahams',\n",
              " 'abrahamsen',\n",
              " 'abram',\n",
              " 'abramowitz',\n",
              " 'abrams',\n",
              " 'abramson',\n",
              " 'abravanel',\n",
              " 'abrell',\n",
              " 'abresch',\n",
              " 'abshire',\n",
              " 'abu',\n",
              " 'abualrub',\n",
              " 'aburdene',\n",
              " 'abzug',\n",
              " 'academy',\n",
              " 'access',\n",
              " 'ace',\n",
              " 'acero',\n",
              " 'acevedo',\n",
              " 'acharya',\n",
              " 'achcar',\n",
              " 'achebe',\n",
              " 'achenbach',\n",
              " 'acheson',\n",
              " 'achim',\n",
              " 'achterberg',\n",
              " 'achy',\n",
              " 'aciman',\n",
              " 'acker',\n",
              " 'ackerley',\n",
              " 'ackerman',\n",
              " 'ackermann',\n",
              " 'ackroyd',\n",
              " 'acredolo',\n",
              " 'acres',\n",
              " 'acton',\n",
              " 'aczel',\n",
              " 'ad',\n",
              " 'ada',\n",
              " 'adair',\n",
              " 'adalbert',\n",
              " 'adalee',\n",
              " 'adam',\n",
              " 'adamec',\n",
              " 'adamo',\n",
              " 'adamoli',\n",
              " 'adams',\n",
              " 'adamson',\n",
              " 'adan',\n",
              " 'adapter',\n",
              " 'adcock',\n",
              " 'addams',\n",
              " 'addington',\n",
              " 'addis',\n",
              " 'addison',\n",
              " 'addlestone',\n",
              " 'addonizio',\n",
              " 'ade',\n",
              " 'adela',\n",
              " 'adelaide',\n",
              " 'adele',\n",
              " 'adelepuhn',\n",
              " 'adelheid',\n",
              " 'adeline',\n",
              " 'adell',\n",
              " 'adelle',\n",
              " 'adelma',\n",
              " 'adelman',\n",
              " 'ades',\n",
              " 'adib',\n",
              " 'adichie',\n",
              " 'adie',\n",
              " 'adilakshmi',\n",
              " 'adin',\n",
              " 'adirana',\n",
              " 'adisa',\n",
              " 'adjeng',\n",
              " 'adkins',\n",
              " 'adler',\n",
              " 'administration',\n",
              " 'admission',\n",
              " 'adnre',\n",
              " 'adobe',\n",
              " 'adolf',\n",
              " 'adolfo',\n",
              " 'adovasio',\n",
              " 'adrados',\n",
              " 'adrain',\n",
              " 'adreana',\n",
              " 'adriaan',\n",
              " 'adrian',\n",
              " 'adriana',\n",
              " 'adriane',\n",
              " 'adrianne',\n",
              " 'adrieanne',\n",
              " 'adriel',\n",
              " 'adrien',\n",
              " 'adrienne',\n",
              " 'adshead',\n",
              " 'adventure',\n",
              " 'adã',\n",
              " 'ae',\n",
              " 'aebi',\n",
              " 'aelig',\n",
              " 'aelion',\n",
              " 'aellen',\n",
              " 'aeron',\n",
              " 'aerosmith',\n",
              " 'aeschylus',\n",
              " 'aesop',\n",
              " 'afanasyev',\n",
              " 'afanasâ',\n",
              " 'afdaf',\n",
              " 'affabee',\n",
              " 'affairs',\n",
              " 'affinati',\n",
              " 'affleck',\n",
              " 'afi',\n",
              " 'afiera',\n",
              " 'afkhami',\n",
              " 'africa',\n",
              " 'afrika',\n",
              " 'afton',\n",
              " 'afua',\n",
              " 'agar',\n",
              " 'agard',\n",
              " 'agatha',\n",
              " 'agatston',\n",
              " 'age',\n",
              " 'agee',\n",
              " 'agel',\n",
              " 'agell',\n",
              " 'agencies',\n",
              " 'agi',\n",
              " 'agins',\n",
              " 'aglaia',\n",
              " 'agnes',\n",
              " 'agnew',\n",
              " 'agnã',\n",
              " 'agostino',\n",
              " 'agota',\n",
              " 'aguado',\n",
              " 'agualusa',\n",
              " 'aguiar',\n",
              " 'aguilar',\n",
              " 'aguilera',\n",
              " 'aguinis',\n",
              " 'agustã',\n",
              " 'agut',\n",
              " 'aguã',\n",
              " 'aharon',\n",
              " 'ahd',\n",
              " 'ahdaf',\n",
              " 'ahern',\n",
              " 'ahlberg',\n",
              " 'ahlbrandt',\n",
              " 'ahlgrimm',\n",
              " 'ahlstrand',\n",
              " 'ahmad',\n",
              " 'ahmadou',\n",
              " 'ahmed',\n",
              " 'ahne',\n",
              " 'aho',\n",
              " 'ahrens',\n",
              " 'ahrons',\n",
              " 'ai',\n",
              " 'aichele',\n",
              " 'aidan',\n",
              " 'aidells',\n",
              " 'aiden',\n",
              " 'aigner',\n",
              " 'aihara',\n",
              " 'aikath',\n",
              " 'aiken',\n",
              " 'aikin',\n",
              " 'aikman',\n",
              " 'aileen',\n",
              " 'aimee',\n",
              " 'aimes',\n",
              " 'aine',\n",
              " 'ainley',\n",
              " 'aino',\n",
              " 'ainsley',\n",
              " 'ainslie',\n",
              " 'ainsztein',\n",
              " 'air',\n",
              " 'aird',\n",
              " 'airth',\n",
              " 'aislinn',\n",
              " 'aitchison',\n",
              " 'aitken',\n",
              " 'aitmatov',\n",
              " 'aitmatow',\n",
              " 'ajar',\n",
              " 'ajmera',\n",
              " 'akalay',\n",
              " 'akamatsu',\n",
              " 'akchurin',\n",
              " 'ake',\n",
              " 'akeret',\n",
              " 'akers',\n",
              " 'akhil',\n",
              " 'akhmatova',\n",
              " 'aki',\n",
              " 'akiba',\n",
              " 'akif',\n",
              " 'akimitsu',\n",
              " 'akino',\n",
              " 'akins',\n",
              " 'akinyemi',\n",
              " 'akira',\n",
              " 'akiyama',\n",
              " 'akiyuki',\n",
              " 'akner',\n",
              " 'akosua',\n",
              " 'aks',\n",
              " 'aksenov',\n",
              " 'akst',\n",
              " 'aksyonov',\n",
              " 'akter',\n",
              " 'akunin',\n",
              " 'al',\n",
              " 'alafair',\n",
              " 'alafenisch',\n",
              " 'alai',\n",
              " 'alain',\n",
              " 'alaina',\n",
              " 'alakananda',\n",
              " 'alam',\n",
              " 'alama',\n",
              " 'alameddine',\n",
              " 'alan',\n",
              " 'alana',\n",
              " 'alane',\n",
              " 'alanna',\n",
              " 'alarcon',\n",
              " 'alas',\n",
              " 'alasdair',\n",
              " 'alastair',\n",
              " 'alatas',\n",
              " 'alayne',\n",
              " 'alb3',\n",
              " 'alba',\n",
              " 'albanell',\n",
              " 'albanese',\n",
              " 'albano',\n",
              " 'albarelli',\n",
              " 'albee',\n",
              " 'alberoni',\n",
              " 'albert',\n",
              " 'alberta',\n",
              " 'alberti',\n",
              " 'alberto',\n",
              " 'alberts',\n",
              " 'albin',\n",
              " 'albinati',\n",
              " 'albisetti',\n",
              " 'albo',\n",
              " 'albom',\n",
              " 'alborch',\n",
              " 'alborough',\n",
              " 'albrecht',\n",
              " 'albright',\n",
              " 'alcala',\n",
              " 'alcantara',\n",
              " 'alcazar',\n",
              " 'alchain',\n",
              " 'alcoberro',\n",
              " 'alcock',\n",
              " 'alcoholics',\n",
              " 'alcorn',\n",
              " 'alcott',\n",
              " 'alda',\n",
              " 'aldama',\n",
              " 'aldecoa',\n",
              " 'alden',\n",
              " 'alder',\n",
              " 'alderman',\n",
              " 'alders',\n",
              " 'alderson',\n",
              " 'alderton',\n",
              " 'aldington',\n",
              " 'aldiss',\n",
              " 'aldo',\n",
              " 'aldon',\n",
              " 'aldona',\n",
              " 'aldous',\n",
              " 'aldren',\n",
              " 'aldrich',\n",
              " 'aldridge',\n",
              " 'aldrin',\n",
              " 'aldyne',\n",
              " 'alec',\n",
              " 'alecia',\n",
              " 'aleen',\n",
              " 'aleesha',\n",
              " 'aleister',\n",
              " 'alejandro',\n",
              " 'alejo',\n",
              " 'aleksandar',\n",
              " 'aleksander',\n",
              " 'aleksandr',\n",
              " 'alekzander',\n",
              " 'alende',\n",
              " 'aleramo',\n",
              " 'alers',\n",
              " 'alesia',\n",
              " 'alessandra',\n",
              " 'alessandrini',\n",
              " 'alessandro',\n",
              " 'aleta',\n",
              " 'alev',\n",
              " 'alex',\n",
              " 'alexa',\n",
              " 'alexan',\n",
              " 'alexande',\n",
              " 'alexander',\n",
              " 'alexandra',\n",
              " 'alexandre',\n",
              " 'alexandrer',\n",
              " 'alexandro',\n",
              " 'alexei',\n",
              " 'alexie',\n",
              " 'alexievitch',\n",
              " 'alexis',\n",
              " 'alexrod',\n",
              " 'alexs',\n",
              " 'alf',\n",
              " 'alfau',\n",
              " 'alfeeva',\n",
              " 'alfie',\n",
              " 'alfiere',\n",
              " 'alfonsi',\n",
              " 'alfonso',\n",
              " 'alford',\n",
              " 'alfred',\n",
              " 'alfredo',\n",
              " 'algarin',\n",
              " 'alge',\n",
              " 'algermissen',\n",
              " 'algernon',\n",
              " 'algis',\n",
              " 'algren',\n",
              " 'ali',\n",
              " 'alibek',\n",
              " 'alibrandi',\n",
              " 'alice',\n",
              " 'alicia',\n",
              " 'alida',\n",
              " 'alien',\n",
              " 'alighieri',\n",
              " 'aliki',\n",
              " 'alina',\n",
              " 'aline',\n",
              " 'alinsky',\n",
              " 'alioth',\n",
              " 'alire',\n",
              " 'alireza',\n",
              " 'alis',\n",
              " 'alisa',\n",
              " 'alisatir',\n",
              " 'aliske',\n",
              " 'alison',\n",
              " 'alistair',\n",
              " 'alister',\n",
              " 'alix',\n",
              " 'aliza',\n",
              " 'aljean',\n",
              " 'allain',\n",
              " 'allan',\n",
              " 'allana',\n",
              " 'allard',\n",
              " 'allardice',\n",
              " 'allbeury',\n",
              " 'alleen',\n",
              " 'allegra',\n",
              " 'allegretto',\n",
              " 'alleman',\n",
              " 'allen',\n",
              " 'allenbaugh',\n",
              " 'allende',\n",
              " 'allender',\n",
              " 'allene',\n",
              " 'allert',\n",
              " 'alles',\n",
              " 'alley',\n",
              " 'alleyn',\n",
              " 'allgor',\n",
              " 'alli',\n",
              " 'allia',\n",
              " 'allie',\n",
              " 'alligator',\n",
              " 'allin',\n",
              " 'allingham',\n",
              " 'alliott',\n",
              " 'allison',\n",
              " 'allistair',\n",
              " 'allott',\n",
              " 'alloula',\n",
              " 'allport',\n",
              " 'allred',\n",
              " 'allsburg',\n",
              " 'allsop',\n",
              " 'allston',\n",
              " 'allyn',\n",
              " 'allyne',\n",
              " 'allyson',\n",
              " 'alm',\n",
              " 'alma',\n",
              " 'almanac',\n",
              " 'almeid',\n",
              " 'almeida',\n",
              " 'almond',\n",
              " 'almudena',\n",
              " 'alois',\n",
              " 'alona',\n",
              " 'alonso',\n",
              " 'alonzo',\n",
              " 'aloysius',\n",
              " 'alpern',\n",
              " 'alpers',\n",
              " 'alpert',\n",
              " 'alpha',\n",
              " 'alphandã',\n",
              " 'alphin',\n",
              " 'alphonse',\n",
              " 'alphonso',\n",
              " 'alpiar',\n",
              " 'alpine',\n",
              " 'alpuente',\n",
              " 'alpuget',\n",
              " 'alsager',\n",
              " 'alsobrook',\n",
              " 'alsop',\n",
              " 'alston',\n",
              " 'alt',\n",
              " 'altea',\n",
              " 'alten',\n",
              " 'altendorf',\n",
              " 'altenhein',\n",
              " 'alter',\n",
              " 'alterman',\n",
              " 'alth',\n",
              " 'althea',\n",
              " 'alther',\n",
              " 'althoff',\n",
              " 'althouse',\n",
              " 'altman',\n",
              " 'altom',\n",
              " 'alton',\n",
              " 'altschuler',\n",
              " 'alvar',\n",
              " 'alvarez',\n",
              " 'alvaro',\n",
              " 'alvear',\n",
              " 'alves',\n",
              " 'alvin',\n",
              " 'alvina',\n",
              " 'alvise',\n",
              " 'alvord',\n",
              " 'alvrez',\n",
              " 'alwin',\n",
              " 'alwyn',\n",
              " 'alyce',\n",
              " 'alys',\n",
              " 'alyson',\n",
              " 'alyssa',\n",
              " 'alysse',\n",
              " 'amabel',\n",
              " 'amacom',\n",
              " 'amadea',\n",
              " 'amadeus',\n",
              " 'amado',\n",
              " 'amador',\n",
              " 'amalfi',\n",
              " 'amalie',\n",
              " 'aman',\n",
              " 'amanda',\n",
              " 'amando',\n",
              " 'amara',\n",
              " 'amarillas',\n",
              " 'amartya',\n",
              " 'amato',\n",
              " 'amber',\n",
              " 'amberg',\n",
              " 'ambergis',\n",
              " 'amberhill',\n",
              " 'ambjã',\n",
              " 'ambler',\n",
              " 'ambroise',\n",
              " 'ambrose',\n",
              " 'ambrosio',\n",
              " 'ambrosius',\n",
              " 'amburn',\n",
              " 'ame',\n",
              " 'amedeo',\n",
              " 'ameena',\n",
              " 'amelia',\n",
              " 'amelie',\n",
              " 'amen',\n",
              " 'amend',\n",
              " 'amende',\n",
              " 'amer',\n",
              " 'america',\n",
              " 'american',\n",
              " 'amerine',\n",
              " 'amerongen',\n",
              " 'amerson',\n",
              " 'amery',\n",
              " 'ames',\n",
              " 'amestoy',\n",
              " 'ametller',\n",
              " 'amey',\n",
              " 'amicis',\n",
              " 'amiel',\n",
              " 'amilcar',\n",
              " 'amin',\n",
              " 'aminatta',\n",
              " 'amine',\n",
              " 'amir',\n",
              " 'amira',\n",
              " 'amiri',\n",
              " 'amiro',\n",
              " 'amirshahi',\n",
              " 'amis',\n",
              " 'amit',\n",
              " 'amitav',\n",
              " 'amma',\n",
              " 'ammaniti',\n",
              " 'ammassa',\n",
              " 'amo',\n",
              " 'amodeo',\n",
              " 'amoros',\n",
              " 'amoroso',\n",
              " 'amory',\n",
              " 'amos',\n",
              " 'amour',\n",
              " 'amoz',\n",
              " 'amp',\n",
              " 'amparo',\n",
              " 'amram',\n",
              " 'amrein',\n",
              " 'amsden',\n",
              " 'amtsberg',\n",
              " 'amulya',\n",
              " 'amundsen',\n",
              " 'amy',\n",
              " 'amye',\n",
              " 'amã',\n",
              " 'an',\n",
              " 'ana',\n",
              " 'anabel',\n",
              " 'anahis',\n",
              " 'anahita',\n",
              " 'anais',\n",
              " 'anand',\n",
              " 'ananta',\n",
              " 'anastas',\n",
              " 'anastasia',\n",
              " 'anastasio',\n",
              " 'anatoli',\n",
              " 'anatolian',\n",
              " 'anatolii',\n",
              " 'anatoly',\n",
              " 'anaya',\n",
              " 'anaã',\n",
              " 'ancelin',\n",
              " 'anchee',\n",
              " 'ancona',\n",
              " 'and',\n",
              " 'andahazi',\n",
              " 'ande',\n",
              " 'andel',\n",
              " 'andelin',\n",
              " 'anders',\n",
              " 'andersch',\n",
              " 'andersdatter',\n",
              " 'andersen',\n",
              " 'anderson',\n",
              " 'andersson',\n",
              " 'andes',\n",
              " 'andie',\n",
              " 'andleigh',\n",
              " 'andrade',\n",
              " 'andre',\n",
              " 'andrea',\n",
              " 'andreae',\n",
              " 'andreas',\n",
              " 'andreasen',\n",
              " 'andreassi',\n",
              " 'andrecht',\n",
              " 'andree',\n",
              " 'andrege',\n",
              " 'andrei',\n",
              " 'andrej',\n",
              " 'andreola',\n",
              " 'andres',\n",
              " 'andress',\n",
              " 'andreu',\n",
              " 'andrew',\n",
              " 'andrews',\n",
              " 'andreyev',\n",
              " 'andreã',\n",
              " 'andriana',\n",
              " 'andriani',\n",
              " 'andriote',\n",
              " 'andris',\n",
              " 'andrzej',\n",
              " 'andrzejewski',\n",
              " 'andrã',\n",
              " 'andy',\n",
              " 'anello',\n",
              " 'angel',\n",
              " 'angela',\n",
              " 'angeles',\n",
              " 'angelfish',\n",
              " 'angeli',\n",
              " 'angelica',\n",
              " 'angelika',\n",
              " 'angelina',\n",
              " 'angelique',\n",
              " 'angelis',\n",
              " 'angell',\n",
              " 'angelo',\n",
              " 'angeloni',\n",
              " 'angelotti',\n",
              " 'angelou',\n",
              " 'angels',\n",
              " 'anger',\n",
              " 'angie',\n",
              " 'angier',\n",
              " 'angle',\n",
              " 'angley',\n",
              " 'anglund',\n",
              " 'angot',\n",
              " 'angowski',\n",
              " 'angus',\n",
              " 'anhua',\n",
              " 'ani',\n",
              " 'ania',\n",
              " 'anik',\n",
              " 'anika',\n",
              " 'anim',\n",
              " 'aniolowski',\n",
              " 'anisfield',\n",
              " 'anistatia',\n",
              " 'anita',\n",
              " 'anitra',\n",
              " 'anja',\n",
              " 'anjali',\n",
              " 'anjana',\n",
              " 'anka',\n",
              " 'ankrum',\n",
              " 'anmarie',\n",
              " 'ann',\n",
              " 'anna',\n",
              " 'annabel',\n",
              " 'annabelle',\n",
              " 'annaeus',\n",
              " 'annakin',\n",
              " 'annalisa',\n",
              " 'annan',\n",
              " 'anne',\n",
              " 'annegret',\n",
              " 'annegrit',\n",
              " 'anneli',\n",
              " 'annelies',\n",
              " 'annemarie',\n",
              " 'annerino',\n",
              " 'anness',\n",
              " 'annette',\n",
              " 'annie',\n",
              " 'annika',\n",
              " 'anno',\n",
              " 'annping',\n",
              " 'annuscheit',\n",
              " 'anny',\n",
              " 'anodea',\n",
              " 'anon',\n",
              " 'anonimo',\n",
              " 'anonym',\n",
              " 'anonyme',\n",
              " 'anonymous',\n",
              " 'anonymus',\n",
              " 'anouchka',\n",
              " 'anouilh',\n",
              " 'ansa',\n",
              " 'ansay',\n",
              " 'ansberry',\n",
              " 'anscombe',\n",
              " 'ansel',\n",
              " 'ansell',\n",
              " 'ansen',\n",
              " 'anshaw',\n",
              " 'anson',\n",
              " 'anspaugh',\n",
              " 'anstey',\n",
              " 'antal',\n",
              " 'antero',\n",
              " 'anthea',\n",
              " 'anthology',\n",
              " 'anthony',\n",
              " 'anthropology',\n",
              " 'anti',\n",
              " 'antieau',\n",
              " 'antin',\n",
              " 'antjie',\n",
              " 'antoine',\n",
              " 'antoinette',\n",
              " 'anton',\n",
              " 'antonacci',\n",
              " 'antonella',\n",
              " 'antoni',\n",
              " 'antonia',\n",
              " 'antonie',\n",
              " 'antonin',\n",
              " 'antonine',\n",
              " 'antonio',\n",
              " 'antony',\n",
              " 'antonya',\n",
              " 'antoon',\n",
              " 'antrews',\n",
              " 'antrim',\n",
              " 'antti',\n",
              " 'antunes',\n",
              " 'antwone',\n",
              " 'antã²nia',\n",
              " 'antã³nio',\n",
              " 'anurag',\n",
              " 'anvil',\n",
              " 'anya',\n",
              " 'anzai',\n",
              " 'anzaldua',\n",
              " 'anzia',\n",
              " 'ao',\n",
              " 'aochi',\n",
              " 'aola',\n",
              " 'aoumiel',\n",
              " 'aoyama',\n",
              " 'aphra',\n",
              " 'aphrodite',\n",
              " 'apice',\n",
              " 'apirana',\n",
              " 'apkarian',\n",
              " 'apodaca',\n",
              " 'apollinaire',\n",
              " 'apollonius',\n",
              " 'apolo',\n",
              " 'apostolos',\n",
              " 'appachana',\n",
              " 'appeal',\n",
              " 'appel',\n",
              " 'appelbaum',\n",
              " 'appelfeld',\n",
              " 'appelhof',\n",
              " 'appell',\n",
              " 'appelo',\n",
              " 'appetit',\n",
              " 'appiah',\n",
              " 'appignanesi',\n",
              " 'applachian',\n",
              " 'apple',\n",
              " 'applebaum',\n",
              " 'appleby',\n",
              " 'applegarth',\n",
              " 'applegate',\n",
              " 'appleman',\n",
              " 'appleton',\n",
              " 'applewhite',\n",
              " 'appleyard',\n",
              " 'applicable',\n",
              " 'appollo',\n",
              " 'apps',\n",
              " 'april',\n",
              " 'aprix',\n",
              " 'aproberts',\n",
              " 'apsley',\n",
              " 'apt',\n",
              " 'apter',\n",
              " 'apy',\n",
              " 'aquilina',\n",
              " 'ar',\n",
              " 'arabella',\n",
              " 'araby',\n",
              " 'aragon',\n",
              " 'araki',\n",
              " 'araldo',\n",
              " 'aralica',\n",
              " 'aramburu',\n",
              " 'aramis',\n",
              " 'arana',\n",
              " 'aranza',\n",
              " 'ararat',\n",
              " 'arax',\n",
              " 'araãºjo',\n",
              " 'arbel',\n",
              " 'arbon',\n",
              " 'arbor',\n",
              " 'arbus',\n",
              " 'arca',\n",
              " 'arcarti',\n",
              " 'arce',\n",
              " 'archaeology',\n",
              " 'archbold',\n",
              " 'archer',\n",
              " 'archery',\n",
              " 'archibald',\n",
              " 'architects',\n",
              " 'archivald',\n",
              " 'arco',\n",
              " 'arcy',\n",
              " 'ardagh',\n",
              " 'ardal',\n",
              " 'ardalan',\n",
              " 'ardashir',\n",
              " 'ardath',\n",
              " 'ardell',\n",
              " 'ardella',\n",
              " 'arden',\n",
              " 'ardian',\n",
              " 'ardinger',\n",
              " 'ardizzone',\n",
              " 'arduini',\n",
              " 'arem',\n",
              " 'arenas',\n",
              " 'arendt',\n",
              " 'arens',\n",
              " 'arensberg',\n",
              " 'arensen',\n",
              " 'aretha',\n",
              " 'arettam',\n",
              " 'argent',\n",
              " 'argentina',\n",
              " 'argers',\n",
              " 'argo',\n",
              " 'arguelles',\n",
              " 'arguinano',\n",
              " 'ari',\n",
              " 'aria',\n",
              " 'ariail',\n",
              " 'ariane',\n",
              " 'arianna',\n",
              " 'ariano',\n",
              " 'arias',\n",
              " 'ariel',\n",
              " 'ariela',\n",
              " 'ariella',\n",
              " 'arielle',\n",
              " 'arima',\n",
              " 'aris',\n",
              " 'aristophanes',\n",
              " 'aristoteles',\n",
              " 'aristotle',\n",
              " 'aritha',\n",
              " 'ariwara',\n",
              " 'ariyoshi',\n",
              " 'arjouni',\n",
              " 'arkadi',\n",
              " 'arkadii',\n",
              " 'arkady',\n",
              " 'arkell',\n",
              " 'arkham',\n",
              " 'arkins',\n",
              " 'arkush',\n",
              " 'arlan',\n",
              " 'arledge',\n",
              " 'arleen',\n",
              " 'arlen',\n",
              " 'arlene',\n",
              " 'arles',\n",
              " 'arleta',\n",
              " 'arlette',\n",
              " 'arlie',\n",
              " 'arlin',\n",
              " 'arline',\n",
              " 'armae',\n",
              " 'arman',\n",
              " 'armand',\n",
              " 'armas',\n",
              " 'armen',\n",
              " 'armesto',\n",
              " 'armin',\n",
              " 'armington',\n",
              " 'armistead',\n",
              " 'armitage',\n",
              " 'armor',\n",
              " 'armour',\n",
              " 'arms',\n",
              " 'armstorong',\n",
              " 'armstrong',\n",
              " 'army',\n",
              " 'arnaldur',\n",
              " 'arnason',\n",
              " 'arnaud',\n",
              " 'arnauld',\n",
              " 'arne',\n",
              " 'arnel',\n",
              " 'arneson',\n",
              " 'arnett',\n",
              " 'arnette',\n",
              " 'arnheim',\n",
              " 'arnie',\n",
              " 'arnim',\n",
              " 'arno',\n",
              " 'arnol',\n",
              " 'arnold',\n",
              " 'arnoldi',\n",
              " 'arnon',\n",
              " 'arnost',\n",
              " 'arnot',\n",
              " 'arnote',\n",
              " 'arnothy',\n",
              " 'arnott',\n",
              " 'arnow',\n",
              " 'arnstein',\n",
              " 'arnulf',\n",
              " 'arold',\n",
              " 'aron',\n",
              " 'arond',\n",
              " 'aronica',\n",
              " 'aronofsky',\n",
              " 'aronowitz',\n",
              " 'aronson',\n",
              " 'arp',\n",
              " 'arpel',\n",
              " 'arpin',\n",
              " 'arrabal',\n",
              " 'arredondo',\n",
              " 'arretxe',\n",
              " 'arriaga',\n",
              " 'arrick',\n",
              " 'arrien',\n",
              " 'arriens',\n",
              " 'arrighi',\n",
              " 'arrigoni',\n",
              " 'arrington',\n",
              " 'arsan',\n",
              " 'arsdale',\n",
              " 'arseneva',\n",
              " 'arsenijevic',\n",
              " ...]"
            ]
          },
          "metadata": {},
          "execution_count": 45
        }
      ]
    },
    {
      "cell_type": "code",
      "source": [
        "# Melakukan fit lalu ditransformasikan ke bentuk matrix\n",
        "tfidf_matrix = tf.fit_transform(book['author']) \n",
        "\n",
        "# Melihat ukuran matrix tfidf\n",
        "tfidf_matrix.shape "
      ],
      "metadata": {
        "colab": {
          "base_uri": "https://localhost:8080/"
        },
        "id": "zp69e_mmckZl",
        "outputId": "e8d92045-f575-426b-985d-2be6c4d9e78a"
      },
      "execution_count": 46,
      "outputs": [
        {
          "output_type": "execute_result",
          "data": {
            "text/plain": [
              "(100000, 24666)"
            ]
          },
          "metadata": {},
          "execution_count": 46
        }
      ]
    },
    {
      "cell_type": "code",
      "source": [
        "# Mengubah vektor tf-idf dalam bentuk matriks dengan fungsi todense()\n",
        "tfidf_matrix.todense()"
      ],
      "metadata": {
        "id": "UnsZcnBicm77"
      },
      "execution_count": null,
      "outputs": []
    },
    {
      "cell_type": "code",
      "source": [
        "#  Melihat matriks tf-idf untuk beberapa judul buku dan kategori penulis\n",
        "pd.DataFrame(\n",
        "    tfidf_matrix.todense(),\n",
        "    columns = tf.get_feature_names(),\n",
        "    index = book.title_book).sample(10,\n",
        "         axis = 1,\n",
        "         replace = True).sample(10, axis = 0)"
      ],
      "metadata": {
        "id": "LC8labXlcoeL"
      },
      "execution_count": null,
      "outputs": []
    },
    {
      "cell_type": "code",
      "source": [
        "# Menghitung cosine similarity pada matrix tf-idf\n",
        "cosine_sim = cosine_similarity(tfidf_matrix) \n",
        "cosine_sim"
      ],
      "metadata": {
        "id": "_3TJaaHYcrGs"
      },
      "execution_count": null,
      "outputs": []
    }
  ]
}